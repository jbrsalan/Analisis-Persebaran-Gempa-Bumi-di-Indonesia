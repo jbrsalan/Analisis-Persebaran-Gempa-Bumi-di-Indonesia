{
 "cells": [
  {
   "cell_type": "markdown",
   "metadata": {},
   "source": [
    "# ANALISIS PERSEBARAN GEMPA BUMI DI INDONESIA"
   ]
  },
  {
   "cell_type": "markdown",
   "metadata": {},
   "source": [
    "# 1. PERKENALAN"
   ]
  },
  {
   "cell_type": "markdown",
   "metadata": {},
   "source": [
    "Nama:\n",
    "Muhammad Jabaris Maulana\n",
    "\n",
    "\n",
    "Link Tableau: [Klik di sini](https://public.tableau.com/app/profile/jabaris.maulana/viz/h8dsft_Milestone1_alan/PERSEBARANDATAGEMPA?publish=yes)\n",
    "\n",
    "Link Dataset: [Klik di sini](https://www.kaggle.com/datasets/kekavigi/earthquakes-in-indonesia)"
   ]
  },
  {
   "cell_type": "markdown",
   "metadata": {},
   "source": [
    "# 2. IDENTIFIKASI MASALAH"
   ]
  },
  {
   "cell_type": "markdown",
   "metadata": {},
   "source": [
    "## 2.1 Latar Belakang"
   ]
  },
  {
   "cell_type": "markdown",
   "metadata": {},
   "source": [
    "Gempa adalah bencana alam yang tidak dapat diprediksi dan berpotensi menimbulkan kerusakan besar, terutama jika memiliki magnitudo tinggi. Sebagai salah satu pusat aktivitas tektonik dan vulkanik dunia, Indonesia rata-rata mengalami 22 gempa setiap hari yang tersebar di berbagai daerah.\n",
    "\n",
    "Semakin tinggi magnitudo gempa, semakin besar pula risiko kerusakan yang ditimbulkan.\n",
    "Gempa digolongkan sebagai bencana alam apabila dampaknya memengaruhi aktivitas manusia. Mengingat tingginya frekuensi gempa di Indonesia, diperlukan analisis data dari rekaman gempa untuk mengidentifikasi wilayah yang memiliki potensi paling tinggi untuk terjadi bencana gempa.\n",
    "\n",
    "Hasil analisis ini diharapkan dapat membantu pihak yang memiliki sumberdaya dan kewajiban untuk penanggulangan seluruh siklus bencana alam yaitu Badan Nasional Penanggulangan Bencana (BNPB), terutama untuk memusatkan sumber dayanya ke area-area yang termasuk area dengan potensi bencana gempa yang tinggi."
   ]
  },
  {
   "cell_type": "markdown",
   "metadata": {},
   "source": [
    "## 2.2 Topik Permasalahan"
   ]
  },
  {
   "cell_type": "markdown",
   "metadata": {},
   "source": [
    "Penelitian ini diharapkan dapat memberikan informasi mengenai area mana saja yang memiliki rekaman gempa merusak paling banyak sehingga pihak yang menaungi bidang bencana yaitu Badan Nasional Penanggulangan Bencana (BNPB) bisa melakukan pertimbangan lebih lanjut dalam penempatan prioritas sumber daya yang dimilikinya."
   ]
  },
  {
   "cell_type": "markdown",
   "metadata": {},
   "source": [
    "Untuk memperjelas cakupan topik yang akan dibahas, dibuat SMART Framework dan Problem Statement sebagai berikut:\n",
    "\n",
    "- Specific:<br>\n",
    "    BNPB dapat menempatkan sumber dayanya pada area dengan potensi bencana gempa tertinggi agar proses mitigasi sebelum gempa berjalan dengan lebih baik dan efisien.\n",
    "- Measurable:<br>\n",
    "    Kehadiran penonton presentasi dari pangkat minimal Eselon III berjumlah 12 orang.\n",
    "- Achievable:<br>\n",
    "    Penentuan area paling rawan bencana gempa bumi kepada BNPB dapat memberikan pertimbangan yang signifikan terhadap prioritas penempatan sumber daya yang dimiliki.\n",
    "- Relevant:<br>\n",
    "    Memfokuskan sumber daya yang dimiliki ke area yang memiliki potensi bencana gempa tinggi dapat menghasilkan sistem mitigasi sebelum gempa bumi yang lebih baik dan efisien.\n",
    "- Time-bound:<br>\n",
    "    Pemusatan sumber daya terhadap area-area paling rawan dapat dicapai dalam 1 tahun.\n",
    "- Problem Statement:<br>\n",
    "    Penempatan sumber daya yang dimiliki BNPB berdasarkan area yang memiliki potensi bencana gempa tinggi dalam 1 tahun ke depan dapat meningkatkan proses mitigasi sebelum gempa bumi, untuk mencapainya diperlukan kehadiran dari pejabat BNPB dengan pangkat Eselon III ke atas minimal 12 orang."
   ]
  },
  {
   "cell_type": "markdown",
   "metadata": {},
   "source": [
    "## 2.3 Penjabaran Masalah"
   ]
  },
  {
   "cell_type": "markdown",
   "metadata": {},
   "source": [
    "Berdasarkan latar belakang dan topik masalah yang sudah dibahas, informasi dari data rekaman gempa dapat digali menggunakan beberapa metode analisis statistik berikut:"
   ]
  },
  {
   "cell_type": "markdown",
   "metadata": {},
   "source": [
    "### 2.3.1 Statistik Inferensial"
   ]
  },
  {
   "cell_type": "markdown",
   "metadata": {},
   "source": [
    "(Apakah ada hubungan antara area dan kategori gempa?)\n",
    "\n",
    "Metode Statistik Inferensial dapat dilakukan untuk menentukan hubungan antara area dan kategori gempa. Dengan metode ini kita bisa membuat hipotesis berikut,\n",
    "\n",
    "**Hipotesis Nol (H₀)**:\n",
    "\n",
    "Tidak ada hubungan antara area lokasi gempa dan kategori gempa.\n",
    "\n",
    "(Dalam konteks ini, distribusi kategori gempa di berbagai lokasi terjadi secara independen dan tidak saling bergantung).\n",
    "\n",
    "**Hipotesis Alternatif (H₁)**:\n",
    "\n",
    "Ada hubungan antara area lokasi gempa dan kategori gempa.\n",
    "\n",
    "(Dalam konteks ini, distribusi kategori gempa berhubungan secara signifikan terhadap area lokasi dan saling bergantung)."
   ]
  },
  {
   "cell_type": "markdown",
   "metadata": {},
   "source": [
    "### 2.3.2 Statistik Deskriptif"
   ]
  },
  {
   "cell_type": "markdown",
   "metadata": {},
   "source": [
    "(Apakah ada anomali dari sebaran data magnitudo gempa?)\n",
    "\n",
    "Metode Statistik Deskriptif dapat dilakukan dalam menganalisis data rekaman magnitudo gempa untuk menentukan kecenderungan dari data gempa yang terjadi."
   ]
  },
  {
   "cell_type": "markdown",
   "metadata": {},
   "source": [
    "### 2.3.3 Visualisasi Data"
   ]
  },
  {
   "cell_type": "markdown",
   "metadata": {},
   "source": [
    "Selain dari pendekatan statistika, visualisasi data juga dapat membantu dalam menggambarkan kondisi gempa berdasarkan beberapa variabel dalam data yaitu:\n",
    "\n",
    "\n",
    "- (Di mana saja area yang memiliki rekaman gempa berkategori besar terbanyak?)\n",
    "\n",
    "    Kita dapat membuat visualisasi dengan variabel area dan kategori gempa untuk menentukan area paling rawan.\n",
    "\n",
    "- (Bagaimana kedalaman pusat gempa mempengaruhi magnitudo gempa?)\n",
    "\n",
    "    Kita dapat membuat visualisasi dengan variabel kedalaman gempa dan magnitudo gempa untuk menentukan hubungan antara kedua variabel tersebut.\n",
    "\n",
    "- (Apakah gempa terjadi pada jam tertentu?)\n",
    "\n",
    "    Kita dapat membuat visualisasi dengan variabel jam gempa untuk menentukan pola terjadinya gempa berdasarkan waktu (jam).\n",
    "\n",
    "- (Apakah gempa dengan kategori besar bisa diprediksi atau memiliki pola?)\n",
    "\n",
    "    Kita dapat membuat visualisasi dengan variabel tanggal gempa untuk menggambarkan apakah gempa terjadi dengan pola waktu tertentu."
   ]
  },
  {
   "cell_type": "markdown",
   "metadata": {},
   "source": [
    "# 3. DATA LOADING"
   ]
  },
  {
   "cell_type": "markdown",
   "metadata": {},
   "source": [
    "Data dalam tabel diambil dalam rentang waktu dari 1 November 2008 sampai 25 November 2024, memiliki 117.251 baris dan 37 kolom."
   ]
  },
  {
   "cell_type": "code",
   "execution_count": 1,
   "metadata": {},
   "outputs": [],
   "source": [
    "# import package yang akan digunakan\n",
    "import pandas as pd # pandas digunakan untuk analisis dan pemrosesan dataframe"
   ]
  },
  {
   "cell_type": "code",
   "execution_count": 2,
   "metadata": {},
   "outputs": [
    {
     "name": "stderr",
     "output_type": "stream",
     "text": [
      "C:\\Users\\ASUS A409J\\AppData\\Local\\Temp\\ipykernel_11580\\187539354.py:2: DtypeWarning: Columns (15) have mixed types. Specify dtype option on import or set low_memory=False.\n",
      "  df = pd.read_table('katalog_gempa_v2.tsv')\n"
     ]
    }
   ],
   "source": [
    "# import data dan jadikan ke dalam bentuk variabel agar mudah diproses\n",
    "df = pd.read_table('katalog_gempa_v2.tsv')"
   ]
  },
  {
   "cell_type": "code",
   "execution_count": 3,
   "metadata": {},
   "outputs": [],
   "source": [
    "# atur agar pandas menampilkan seluruh kolom\n",
    "pd.set_option('display.max_columns', None)"
   ]
  },
  {
   "cell_type": "code",
   "execution_count": 4,
   "metadata": {},
   "outputs": [
    {
     "data": {
      "text/html": [
       "<div>\n",
       "<style scoped>\n",
       "    .dataframe tbody tr th:only-of-type {\n",
       "        vertical-align: middle;\n",
       "    }\n",
       "\n",
       "    .dataframe tbody tr th {\n",
       "        vertical-align: top;\n",
       "    }\n",
       "\n",
       "    .dataframe thead th {\n",
       "        text-align: right;\n",
       "    }\n",
       "</style>\n",
       "<table border=\"1\" class=\"dataframe\">\n",
       "  <thead>\n",
       "    <tr style=\"text-align: right;\">\n",
       "      <th></th>\n",
       "      <th>eventID</th>\n",
       "      <th>datetime</th>\n",
       "      <th>latitude</th>\n",
       "      <th>longitude</th>\n",
       "      <th>magnitude</th>\n",
       "      <th>mag_type</th>\n",
       "      <th>depth</th>\n",
       "      <th>phasecount</th>\n",
       "      <th>azimuth_gap</th>\n",
       "      <th>location</th>\n",
       "      <th>agency</th>\n",
       "      <th>datetimeFM</th>\n",
       "      <th>latFM</th>\n",
       "      <th>lonFM</th>\n",
       "      <th>magFM</th>\n",
       "      <th>magTypeFM</th>\n",
       "      <th>depthFM</th>\n",
       "      <th>phasecountFM</th>\n",
       "      <th>AzGapFM</th>\n",
       "      <th>scalarMoment</th>\n",
       "      <th>Mrr</th>\n",
       "      <th>Mtt</th>\n",
       "      <th>Mpp</th>\n",
       "      <th>Mrt</th>\n",
       "      <th>Mrp</th>\n",
       "      <th>Mtp</th>\n",
       "      <th>varianceReduction</th>\n",
       "      <th>doubleCouple</th>\n",
       "      <th>clvd</th>\n",
       "      <th>strikeNP1</th>\n",
       "      <th>dipNP1</th>\n",
       "      <th>rakeNP1</th>\n",
       "      <th>strikeNP2</th>\n",
       "      <th>dipNP2</th>\n",
       "      <th>rakeNP2</th>\n",
       "      <th>azgapFM</th>\n",
       "      <th>misfit</th>\n",
       "    </tr>\n",
       "  </thead>\n",
       "  <tbody>\n",
       "    <tr>\n",
       "      <th>0</th>\n",
       "      <td>bmg2008vkye</td>\n",
       "      <td>2008-11-01 00:31:25.143741+00:00</td>\n",
       "      <td>-0.604440</td>\n",
       "      <td>98.895531</td>\n",
       "      <td>2.989742</td>\n",
       "      <td>MLv</td>\n",
       "      <td>20</td>\n",
       "      <td>6.0</td>\n",
       "      <td>146.70738</td>\n",
       "      <td>Southern Sumatra, Indonesia</td>\n",
       "      <td>NaN</td>\n",
       "      <td>NaN</td>\n",
       "      <td>NaN</td>\n",
       "      <td>NaN</td>\n",
       "      <td>NaN</td>\n",
       "      <td>NaN</td>\n",
       "      <td>NaN</td>\n",
       "      <td>NaN</td>\n",
       "      <td>NaN</td>\n",
       "      <td>NaN</td>\n",
       "      <td>NaN</td>\n",
       "      <td>NaN</td>\n",
       "      <td>NaN</td>\n",
       "      <td>NaN</td>\n",
       "      <td>NaN</td>\n",
       "      <td>NaN</td>\n",
       "      <td>NaN</td>\n",
       "      <td>NaN</td>\n",
       "      <td>NaN</td>\n",
       "      <td>NaN</td>\n",
       "      <td>NaN</td>\n",
       "      <td>NaN</td>\n",
       "      <td>NaN</td>\n",
       "      <td>NaN</td>\n",
       "      <td>NaN</td>\n",
       "      <td>NaN</td>\n",
       "      <td>NaN</td>\n",
       "    </tr>\n",
       "    <tr>\n",
       "      <th>1</th>\n",
       "      <td>bmg2008vlag</td>\n",
       "      <td>2008-11-01 01:34:29.660856+00:00</td>\n",
       "      <td>-6.611860</td>\n",
       "      <td>129.387220</td>\n",
       "      <td>5.507549</td>\n",
       "      <td>mb</td>\n",
       "      <td>30</td>\n",
       "      <td>62.0</td>\n",
       "      <td>45.46764</td>\n",
       "      <td>Banda Sea</td>\n",
       "      <td>NaN</td>\n",
       "      <td>NaN</td>\n",
       "      <td>NaN</td>\n",
       "      <td>NaN</td>\n",
       "      <td>NaN</td>\n",
       "      <td>NaN</td>\n",
       "      <td>NaN</td>\n",
       "      <td>NaN</td>\n",
       "      <td>NaN</td>\n",
       "      <td>NaN</td>\n",
       "      <td>NaN</td>\n",
       "      <td>NaN</td>\n",
       "      <td>NaN</td>\n",
       "      <td>NaN</td>\n",
       "      <td>NaN</td>\n",
       "      <td>NaN</td>\n",
       "      <td>NaN</td>\n",
       "      <td>NaN</td>\n",
       "      <td>NaN</td>\n",
       "      <td>NaN</td>\n",
       "      <td>NaN</td>\n",
       "      <td>NaN</td>\n",
       "      <td>NaN</td>\n",
       "      <td>NaN</td>\n",
       "      <td>NaN</td>\n",
       "      <td>NaN</td>\n",
       "      <td>NaN</td>\n",
       "    </tr>\n",
       "    <tr>\n",
       "      <th>2</th>\n",
       "      <td>bmg2008vlaj</td>\n",
       "      <td>2008-11-01 01:38:14.802129+00:00</td>\n",
       "      <td>-3.650586</td>\n",
       "      <td>127.990680</td>\n",
       "      <td>3.539674</td>\n",
       "      <td>MLv</td>\n",
       "      <td>5</td>\n",
       "      <td>4.0</td>\n",
       "      <td>331.97404</td>\n",
       "      <td>Seram, Indonesia</td>\n",
       "      <td>NaN</td>\n",
       "      <td>NaN</td>\n",
       "      <td>NaN</td>\n",
       "      <td>NaN</td>\n",
       "      <td>NaN</td>\n",
       "      <td>NaN</td>\n",
       "      <td>NaN</td>\n",
       "      <td>NaN</td>\n",
       "      <td>NaN</td>\n",
       "      <td>NaN</td>\n",
       "      <td>NaN</td>\n",
       "      <td>NaN</td>\n",
       "      <td>NaN</td>\n",
       "      <td>NaN</td>\n",
       "      <td>NaN</td>\n",
       "      <td>NaN</td>\n",
       "      <td>NaN</td>\n",
       "      <td>NaN</td>\n",
       "      <td>NaN</td>\n",
       "      <td>NaN</td>\n",
       "      <td>NaN</td>\n",
       "      <td>NaN</td>\n",
       "      <td>NaN</td>\n",
       "      <td>NaN</td>\n",
       "      <td>NaN</td>\n",
       "      <td>NaN</td>\n",
       "      <td>NaN</td>\n",
       "    </tr>\n",
       "    <tr>\n",
       "      <th>3</th>\n",
       "      <td>bmg2008vlbt</td>\n",
       "      <td>2008-11-01 02:20:05.909515+00:00</td>\n",
       "      <td>-4.198925</td>\n",
       "      <td>128.097000</td>\n",
       "      <td>2.424314</td>\n",
       "      <td>MLv</td>\n",
       "      <td>5</td>\n",
       "      <td>5.0</td>\n",
       "      <td>326.37993</td>\n",
       "      <td>Banda Sea</td>\n",
       "      <td>NaN</td>\n",
       "      <td>NaN</td>\n",
       "      <td>NaN</td>\n",
       "      <td>NaN</td>\n",
       "      <td>NaN</td>\n",
       "      <td>NaN</td>\n",
       "      <td>NaN</td>\n",
       "      <td>NaN</td>\n",
       "      <td>NaN</td>\n",
       "      <td>NaN</td>\n",
       "      <td>NaN</td>\n",
       "      <td>NaN</td>\n",
       "      <td>NaN</td>\n",
       "      <td>NaN</td>\n",
       "      <td>NaN</td>\n",
       "      <td>NaN</td>\n",
       "      <td>NaN</td>\n",
       "      <td>NaN</td>\n",
       "      <td>NaN</td>\n",
       "      <td>NaN</td>\n",
       "      <td>NaN</td>\n",
       "      <td>NaN</td>\n",
       "      <td>NaN</td>\n",
       "      <td>NaN</td>\n",
       "      <td>NaN</td>\n",
       "      <td>NaN</td>\n",
       "      <td>NaN</td>\n",
       "    </tr>\n",
       "    <tr>\n",
       "      <th>4</th>\n",
       "      <td>bmg2008vlcd</td>\n",
       "      <td>2008-11-01 02:32:18.756155+00:00</td>\n",
       "      <td>-4.091891</td>\n",
       "      <td>128.200470</td>\n",
       "      <td>2.410045</td>\n",
       "      <td>MLv</td>\n",
       "      <td>10</td>\n",
       "      <td>5.0</td>\n",
       "      <td>314.65474</td>\n",
       "      <td>Banda Sea</td>\n",
       "      <td>NaN</td>\n",
       "      <td>NaN</td>\n",
       "      <td>NaN</td>\n",
       "      <td>NaN</td>\n",
       "      <td>NaN</td>\n",
       "      <td>NaN</td>\n",
       "      <td>NaN</td>\n",
       "      <td>NaN</td>\n",
       "      <td>NaN</td>\n",
       "      <td>NaN</td>\n",
       "      <td>NaN</td>\n",
       "      <td>NaN</td>\n",
       "      <td>NaN</td>\n",
       "      <td>NaN</td>\n",
       "      <td>NaN</td>\n",
       "      <td>NaN</td>\n",
       "      <td>NaN</td>\n",
       "      <td>NaN</td>\n",
       "      <td>NaN</td>\n",
       "      <td>NaN</td>\n",
       "      <td>NaN</td>\n",
       "      <td>NaN</td>\n",
       "      <td>NaN</td>\n",
       "      <td>NaN</td>\n",
       "      <td>NaN</td>\n",
       "      <td>NaN</td>\n",
       "      <td>NaN</td>\n",
       "    </tr>\n",
       "  </tbody>\n",
       "</table>\n",
       "</div>"
      ],
      "text/plain": [
       "       eventID                          datetime  latitude   longitude  \\\n",
       "0  bmg2008vkye  2008-11-01 00:31:25.143741+00:00 -0.604440   98.895531   \n",
       "1  bmg2008vlag  2008-11-01 01:34:29.660856+00:00 -6.611860  129.387220   \n",
       "2  bmg2008vlaj  2008-11-01 01:38:14.802129+00:00 -3.650586  127.990680   \n",
       "3  bmg2008vlbt  2008-11-01 02:20:05.909515+00:00 -4.198925  128.097000   \n",
       "4  bmg2008vlcd  2008-11-01 02:32:18.756155+00:00 -4.091891  128.200470   \n",
       "\n",
       "   magnitude mag_type  depth  phasecount  azimuth_gap  \\\n",
       "0   2.989742      MLv     20         6.0    146.70738   \n",
       "1   5.507549       mb     30        62.0     45.46764   \n",
       "2   3.539674      MLv      5         4.0    331.97404   \n",
       "3   2.424314      MLv      5         5.0    326.37993   \n",
       "4   2.410045      MLv     10         5.0    314.65474   \n",
       "\n",
       "                      location agency datetimeFM  latFM  lonFM  magFM  \\\n",
       "0  Southern Sumatra, Indonesia    NaN        NaN    NaN    NaN    NaN   \n",
       "1                    Banda Sea    NaN        NaN    NaN    NaN    NaN   \n",
       "2             Seram, Indonesia    NaN        NaN    NaN    NaN    NaN   \n",
       "3                    Banda Sea    NaN        NaN    NaN    NaN    NaN   \n",
       "4                    Banda Sea    NaN        NaN    NaN    NaN    NaN   \n",
       "\n",
       "  magTypeFM  depthFM  phasecountFM  AzGapFM  scalarMoment  Mrr  Mtt  Mpp  Mrt  \\\n",
       "0       NaN      NaN           NaN      NaN           NaN  NaN  NaN  NaN  NaN   \n",
       "1       NaN      NaN           NaN      NaN           NaN  NaN  NaN  NaN  NaN   \n",
       "2       NaN      NaN           NaN      NaN           NaN  NaN  NaN  NaN  NaN   \n",
       "3       NaN      NaN           NaN      NaN           NaN  NaN  NaN  NaN  NaN   \n",
       "4       NaN      NaN           NaN      NaN           NaN  NaN  NaN  NaN  NaN   \n",
       "\n",
       "   Mrp  Mtp  varianceReduction  doubleCouple  clvd  strikeNP1  dipNP1  \\\n",
       "0  NaN  NaN                NaN           NaN   NaN        NaN     NaN   \n",
       "1  NaN  NaN                NaN           NaN   NaN        NaN     NaN   \n",
       "2  NaN  NaN                NaN           NaN   NaN        NaN     NaN   \n",
       "3  NaN  NaN                NaN           NaN   NaN        NaN     NaN   \n",
       "4  NaN  NaN                NaN           NaN   NaN        NaN     NaN   \n",
       "\n",
       "   rakeNP1  strikeNP2  dipNP2  rakeNP2  azgapFM  misfit  \n",
       "0      NaN        NaN     NaN      NaN      NaN     NaN  \n",
       "1      NaN        NaN     NaN      NaN      NaN     NaN  \n",
       "2      NaN        NaN     NaN      NaN      NaN     NaN  \n",
       "3      NaN        NaN     NaN      NaN      NaN     NaN  \n",
       "4      NaN        NaN     NaN      NaN      NaN     NaN  "
      ]
     },
     "execution_count": 4,
     "metadata": {},
     "output_type": "execute_result"
    }
   ],
   "source": [
    "# tampilkan dataframe untuk diamati\n",
    "df.head()"
   ]
  },
  {
   "cell_type": "code",
   "execution_count": 5,
   "metadata": {},
   "outputs": [
    {
     "name": "stdout",
     "output_type": "stream",
     "text": [
      "<class 'pandas.core.frame.DataFrame'>\n",
      "RangeIndex: 117251 entries, 0 to 117250\n",
      "Data columns (total 37 columns):\n",
      " #   Column             Non-Null Count   Dtype  \n",
      "---  ------             --------------   -----  \n",
      " 0   eventID            117251 non-null  object \n",
      " 1   datetime           117251 non-null  object \n",
      " 2   latitude           117251 non-null  float64\n",
      " 3   longitude          117251 non-null  float64\n",
      " 4   magnitude          116727 non-null  float64\n",
      " 5   mag_type           116727 non-null  object \n",
      " 6   depth              117251 non-null  int64  \n",
      " 7   phasecount         117249 non-null  float64\n",
      " 8   azimuth_gap        117247 non-null  float64\n",
      " 9   location           117237 non-null  object \n",
      " 10  agency             113805 non-null  object \n",
      " 11  datetimeFM         4014 non-null    object \n",
      " 12  latFM              4014 non-null    float64\n",
      " 13  lonFM              4014 non-null    float64\n",
      " 14  magFM              3490 non-null    float64\n",
      " 15  magTypeFM          3490 non-null    object \n",
      " 16  depthFM            4014 non-null    float64\n",
      " 17  phasecountFM       4014 non-null    float64\n",
      " 18  AzGapFM            3864 non-null    float64\n",
      " 19  scalarMoment       3864 non-null    float64\n",
      " 20  Mrr                3864 non-null    float64\n",
      " 21  Mtt                3864 non-null    float64\n",
      " 22  Mpp                3864 non-null    float64\n",
      " 23  Mrt                3864 non-null    float64\n",
      " 24  Mrp                3864 non-null    float64\n",
      " 25  Mtp                3864 non-null    float64\n",
      " 26  varianceReduction  3863 non-null    float64\n",
      " 27  doubleCouple       3864 non-null    float64\n",
      " 28  clvd               3864 non-null    float64\n",
      " 29  strikeNP1          4014 non-null    float64\n",
      " 30  dipNP1             4014 non-null    float64\n",
      " 31  rakeNP1            4014 non-null    float64\n",
      " 32  strikeNP2          4014 non-null    float64\n",
      " 33  dipNP2             4014 non-null    float64\n",
      " 34  rakeNP2            4014 non-null    float64\n",
      " 35  azgapFM            3864 non-null    float64\n",
      " 36  misfit             3861 non-null    float64\n",
      "dtypes: float64(29), int64(1), object(7)\n",
      "memory usage: 33.1+ MB\n"
     ]
    }
   ],
   "source": [
    "# tampilkan info data untuk diamati\n",
    "df.info()"
   ]
  },
  {
   "cell_type": "markdown",
   "metadata": {},
   "source": [
    "Dari data yang dimuat bisa dilihat terdapat 37 kolom namun untuk keperluan analisis tidak semua informasi dalam kolom akan digunakan.\n",
    "\n",
    "Dari pengamatan data di atas perlu banyak perbaikan dari segi format data dan pembuatan klasifikasi berdasarkan besar magnitudo ke dalam kolom baru serta memisahkan antara tanggal dan waktu untuk kepentingan analisis."
   ]
  },
  {
   "cell_type": "markdown",
   "metadata": {},
   "source": [
    "# 4. DATA CLEANING"
   ]
  },
  {
   "cell_type": "markdown",
   "metadata": {},
   "source": [
    "## 4.1 Tampilkan Kolom yang Akan Dipakai"
   ]
  },
  {
   "cell_type": "markdown",
   "metadata": {},
   "source": [
    "Dalam analisis yang dilakukan, kita hanya membutuhkan 7 dari 37 kolom yang tersedia sehingga kita hanya perlu menampilkan 7 kolom tersebut."
   ]
  },
  {
   "cell_type": "code",
   "execution_count": 6,
   "metadata": {},
   "outputs": [
    {
     "data": {
      "text/html": [
       "<div>\n",
       "<style scoped>\n",
       "    .dataframe tbody tr th:only-of-type {\n",
       "        vertical-align: middle;\n",
       "    }\n",
       "\n",
       "    .dataframe tbody tr th {\n",
       "        vertical-align: top;\n",
       "    }\n",
       "\n",
       "    .dataframe thead th {\n",
       "        text-align: right;\n",
       "    }\n",
       "</style>\n",
       "<table border=\"1\" class=\"dataframe\">\n",
       "  <thead>\n",
       "    <tr style=\"text-align: right;\">\n",
       "      <th></th>\n",
       "      <th>eventID</th>\n",
       "      <th>datetime</th>\n",
       "      <th>latitude</th>\n",
       "      <th>longitude</th>\n",
       "      <th>magnitude</th>\n",
       "      <th>mag_type</th>\n",
       "      <th>depth</th>\n",
       "      <th>phasecount</th>\n",
       "      <th>azimuth_gap</th>\n",
       "      <th>location</th>\n",
       "      <th>agency</th>\n",
       "      <th>datetimeFM</th>\n",
       "      <th>latFM</th>\n",
       "      <th>lonFM</th>\n",
       "      <th>magFM</th>\n",
       "      <th>magTypeFM</th>\n",
       "      <th>depthFM</th>\n",
       "      <th>phasecountFM</th>\n",
       "      <th>AzGapFM</th>\n",
       "      <th>scalarMoment</th>\n",
       "      <th>Mrr</th>\n",
       "      <th>Mtt</th>\n",
       "      <th>Mpp</th>\n",
       "      <th>Mrt</th>\n",
       "      <th>Mrp</th>\n",
       "      <th>Mtp</th>\n",
       "      <th>varianceReduction</th>\n",
       "      <th>doubleCouple</th>\n",
       "      <th>clvd</th>\n",
       "      <th>strikeNP1</th>\n",
       "      <th>dipNP1</th>\n",
       "      <th>rakeNP1</th>\n",
       "      <th>strikeNP2</th>\n",
       "      <th>dipNP2</th>\n",
       "      <th>rakeNP2</th>\n",
       "      <th>azgapFM</th>\n",
       "      <th>misfit</th>\n",
       "    </tr>\n",
       "  </thead>\n",
       "  <tbody>\n",
       "    <tr>\n",
       "      <th>0</th>\n",
       "      <td>bmg2008vkye</td>\n",
       "      <td>2008-11-01 00:31:25.143741+00:00</td>\n",
       "      <td>-0.60444</td>\n",
       "      <td>98.895531</td>\n",
       "      <td>2.989742</td>\n",
       "      <td>MLv</td>\n",
       "      <td>20</td>\n",
       "      <td>6.0</td>\n",
       "      <td>146.70738</td>\n",
       "      <td>Southern Sumatra, Indonesia</td>\n",
       "      <td>NaN</td>\n",
       "      <td>NaN</td>\n",
       "      <td>NaN</td>\n",
       "      <td>NaN</td>\n",
       "      <td>NaN</td>\n",
       "      <td>NaN</td>\n",
       "      <td>NaN</td>\n",
       "      <td>NaN</td>\n",
       "      <td>NaN</td>\n",
       "      <td>NaN</td>\n",
       "      <td>NaN</td>\n",
       "      <td>NaN</td>\n",
       "      <td>NaN</td>\n",
       "      <td>NaN</td>\n",
       "      <td>NaN</td>\n",
       "      <td>NaN</td>\n",
       "      <td>NaN</td>\n",
       "      <td>NaN</td>\n",
       "      <td>NaN</td>\n",
       "      <td>NaN</td>\n",
       "      <td>NaN</td>\n",
       "      <td>NaN</td>\n",
       "      <td>NaN</td>\n",
       "      <td>NaN</td>\n",
       "      <td>NaN</td>\n",
       "      <td>NaN</td>\n",
       "      <td>NaN</td>\n",
       "    </tr>\n",
       "  </tbody>\n",
       "</table>\n",
       "</div>"
      ],
      "text/plain": [
       "       eventID                          datetime  latitude  longitude  \\\n",
       "0  bmg2008vkye  2008-11-01 00:31:25.143741+00:00  -0.60444  98.895531   \n",
       "\n",
       "   magnitude mag_type  depth  phasecount  azimuth_gap  \\\n",
       "0   2.989742      MLv     20         6.0    146.70738   \n",
       "\n",
       "                      location agency datetimeFM  latFM  lonFM  magFM  \\\n",
       "0  Southern Sumatra, Indonesia    NaN        NaN    NaN    NaN    NaN   \n",
       "\n",
       "  magTypeFM  depthFM  phasecountFM  AzGapFM  scalarMoment  Mrr  Mtt  Mpp  Mrt  \\\n",
       "0       NaN      NaN           NaN      NaN           NaN  NaN  NaN  NaN  NaN   \n",
       "\n",
       "   Mrp  Mtp  varianceReduction  doubleCouple  clvd  strikeNP1  dipNP1  \\\n",
       "0  NaN  NaN                NaN           NaN   NaN        NaN     NaN   \n",
       "\n",
       "   rakeNP1  strikeNP2  dipNP2  rakeNP2  azgapFM  misfit  \n",
       "0      NaN        NaN     NaN      NaN      NaN     NaN  "
      ]
     },
     "execution_count": 6,
     "metadata": {},
     "output_type": "execute_result"
    }
   ],
   "source": [
    "# tampilkan data untuk membaca kolom dengan method \".head(1)\" agar hanya 1 baris data yang muncul sehingga tidak memenuhi notebook\n",
    "df.head(1)"
   ]
  },
  {
   "cell_type": "code",
   "execution_count": 7,
   "metadata": {},
   "outputs": [
    {
     "data": {
      "text/html": [
       "<div>\n",
       "<style scoped>\n",
       "    .dataframe tbody tr th:only-of-type {\n",
       "        vertical-align: middle;\n",
       "    }\n",
       "\n",
       "    .dataframe tbody tr th {\n",
       "        vertical-align: top;\n",
       "    }\n",
       "\n",
       "    .dataframe thead th {\n",
       "        text-align: right;\n",
       "    }\n",
       "</style>\n",
       "<table border=\"1\" class=\"dataframe\">\n",
       "  <thead>\n",
       "    <tr style=\"text-align: right;\">\n",
       "      <th></th>\n",
       "      <th>eventID</th>\n",
       "      <th>datetime</th>\n",
       "      <th>latitude</th>\n",
       "      <th>longitude</th>\n",
       "      <th>magnitude</th>\n",
       "      <th>depth</th>\n",
       "      <th>location</th>\n",
       "    </tr>\n",
       "  </thead>\n",
       "  <tbody>\n",
       "    <tr>\n",
       "      <th>0</th>\n",
       "      <td>bmg2008vkye</td>\n",
       "      <td>2008-11-01 00:31:25.143741+00:00</td>\n",
       "      <td>-0.60444</td>\n",
       "      <td>98.895531</td>\n",
       "      <td>2.989742</td>\n",
       "      <td>20</td>\n",
       "      <td>Southern Sumatra, Indonesia</td>\n",
       "    </tr>\n",
       "  </tbody>\n",
       "</table>\n",
       "</div>"
      ],
      "text/plain": [
       "       eventID                          datetime  latitude  longitude  \\\n",
       "0  bmg2008vkye  2008-11-01 00:31:25.143741+00:00  -0.60444  98.895531   \n",
       "\n",
       "   magnitude  depth                     location  \n",
       "0   2.989742     20  Southern Sumatra, Indonesia  "
      ]
     },
     "execution_count": 7,
     "metadata": {},
     "output_type": "execute_result"
    }
   ],
   "source": [
    "# hanya tampilkan kolom yang ingin dipakai dengan method \".filter()\"\n",
    "df = df.filter(['eventID',\n",
    "                'datetime',\n",
    "                'latitude',\n",
    "                'longitude',\n",
    "                'magnitude',\n",
    "                'depth',\n",
    "                'location'])\n",
    "df.head(1)"
   ]
  },
  {
   "cell_type": "markdown",
   "metadata": {},
   "source": [
    "## 4.2 Penamaan Kolom"
   ]
  },
  {
   "cell_type": "markdown",
   "metadata": {},
   "source": [
    "Agar lebih mudah diproses dan lebih baik untuk ditampilkan, penamaan kolom perlu diganti dengan nama-nama yang lebih baik."
   ]
  },
  {
   "cell_type": "code",
   "execution_count": 8,
   "metadata": {},
   "outputs": [
    {
     "data": {
      "text/html": [
       "<div>\n",
       "<style scoped>\n",
       "    .dataframe tbody tr th:only-of-type {\n",
       "        vertical-align: middle;\n",
       "    }\n",
       "\n",
       "    .dataframe tbody tr th {\n",
       "        vertical-align: top;\n",
       "    }\n",
       "\n",
       "    .dataframe thead th {\n",
       "        text-align: right;\n",
       "    }\n",
       "</style>\n",
       "<table border=\"1\" class=\"dataframe\">\n",
       "  <thead>\n",
       "    <tr style=\"text-align: right;\">\n",
       "      <th></th>\n",
       "      <th>GempaID</th>\n",
       "      <th>Timestamp</th>\n",
       "      <th>Latitude</th>\n",
       "      <th>Longitude</th>\n",
       "      <th>Magnitudo</th>\n",
       "      <th>Kedalaman</th>\n",
       "      <th>Area</th>\n",
       "    </tr>\n",
       "  </thead>\n",
       "  <tbody>\n",
       "    <tr>\n",
       "      <th>0</th>\n",
       "      <td>bmg2008vkye</td>\n",
       "      <td>2008-11-01 00:31:25.143741+00:00</td>\n",
       "      <td>-0.60444</td>\n",
       "      <td>98.895531</td>\n",
       "      <td>2.989742</td>\n",
       "      <td>20</td>\n",
       "      <td>Southern Sumatra, Indonesia</td>\n",
       "    </tr>\n",
       "  </tbody>\n",
       "</table>\n",
       "</div>"
      ],
      "text/plain": [
       "       GempaID                         Timestamp  Latitude  Longitude  \\\n",
       "0  bmg2008vkye  2008-11-01 00:31:25.143741+00:00  -0.60444  98.895531   \n",
       "\n",
       "   Magnitudo  Kedalaman                         Area  \n",
       "0   2.989742         20  Southern Sumatra, Indonesia  "
      ]
     },
     "execution_count": 8,
     "metadata": {},
     "output_type": "execute_result"
    }
   ],
   "source": [
    "# ubah nama kolom dengan method \".rename()\"\n",
    "df = df.rename(columns={\"eventID\":\"GempaID\",\n",
    "                   \"datetime\":\"Timestamp\",\n",
    "                   \"latitude\":\"Latitude\",\n",
    "                   \"longitude\":\"Longitude\",\n",
    "                   \"magnitude\":\"Magnitudo\",\n",
    "                   \"depth\":\"Kedalaman\",\n",
    "                   \"location\":\"Area\"})\n",
    "df.head(1)"
   ]
  },
  {
   "cell_type": "markdown",
   "metadata": {},
   "source": [
    "## 4.3 Penghapusan Baris dengan Missing Value"
   ]
  },
  {
   "cell_type": "markdown",
   "metadata": {},
   "source": [
    "Setelah menampilkan kolom-kolom yang ingin dianalisis, sebaiknya kita melakukan handling terhadap missing value (jika ada). Mengingat setiap value dalam kolom yang ditampilkan memiliki peran penting, maka akan dilakukan pengahpusan baris yang memiliki missing value."
   ]
  },
  {
   "cell_type": "code",
   "execution_count": 9,
   "metadata": {},
   "outputs": [
    {
     "data": {
      "text/plain": [
       "True"
      ]
     },
     "execution_count": 9,
     "metadata": {},
     "output_type": "execute_result"
    }
   ],
   "source": [
    "# cek keterdapatan missing value dalam seluruh dataframe menggunakan method \".isnull()\" dilanjutkan dengan method \".values.any()\"\n",
    "df.isnull().values.any()"
   ]
  },
  {
   "cell_type": "markdown",
   "metadata": {},
   "source": [
    "Berdasarkan fungsi di atas terdapat missing value dalam dataframe, maka selanjutnya kita harus menghapus baris-baris yang memiliki missing value tersebut."
   ]
  },
  {
   "cell_type": "code",
   "execution_count": 10,
   "metadata": {},
   "outputs": [
    {
     "name": "stdout",
     "output_type": "stream",
     "text": [
      "<class 'pandas.core.frame.DataFrame'>\n",
      "Index: 116715 entries, 0 to 117250\n",
      "Data columns (total 7 columns):\n",
      " #   Column     Non-Null Count   Dtype  \n",
      "---  ------     --------------   -----  \n",
      " 0   GempaID    116715 non-null  object \n",
      " 1   Timestamp  116715 non-null  object \n",
      " 2   Latitude   116715 non-null  float64\n",
      " 3   Longitude  116715 non-null  float64\n",
      " 4   Magnitudo  116715 non-null  float64\n",
      " 5   Kedalaman  116715 non-null  int64  \n",
      " 6   Area       116715 non-null  object \n",
      "dtypes: float64(3), int64(1), object(3)\n",
      "memory usage: 7.1+ MB\n"
     ]
    }
   ],
   "source": [
    "# hapus baris dengan missing value menggunakan method \".dropna()\"\n",
    "df = df.dropna()\n",
    "df.info()"
   ]
  },
  {
   "cell_type": "markdown",
   "metadata": {},
   "source": [
    "Dari hasil penghapusan baris dengan missing value tersisa 116.715 baris di mana data tersebut seharusnya cukup untuk dilakukan analisis"
   ]
  },
  {
   "cell_type": "markdown",
   "metadata": {},
   "source": [
    "## 4.4 Koreksi Format dari Value"
   ]
  },
  {
   "cell_type": "markdown",
   "metadata": {},
   "source": [
    "Agar analisis dapat berjalan dengan lancar, perlu dilakukan beberapa koreksi terhadap kolom Timestamp yaitu pengambilan data tanggal dan jam dengan format yang sesuai. Kolom lainnya sudah memiliki tipe yang sesuai dengan kegunaannya."
   ]
  },
  {
   "cell_type": "code",
   "execution_count": 11,
   "metadata": {},
   "outputs": [],
   "source": [
    "# import datetime untuk memroses data waktu dalam timestamp\n",
    "from datetime import time, timedelta"
   ]
  },
  {
   "cell_type": "code",
   "execution_count": 12,
   "metadata": {},
   "outputs": [],
   "source": [
    "# hapus karakter yang tidak diperlukan di belakang timestamp dengan cara mengambil 19 karakter dari depan value\n",
    "df['Timestamp'] = df['Timestamp'].str[:19] "
   ]
  },
  {
   "cell_type": "code",
   "execution_count": 13,
   "metadata": {},
   "outputs": [],
   "source": [
    "# ubah kolom timestamp ke dalam tipe datetime agar dapat mengambil data tanggal dan waktunya\n",
    "df['Timestamp'] = pd.to_datetime(df['Timestamp'])"
   ]
  },
  {
   "cell_type": "code",
   "execution_count": 14,
   "metadata": {},
   "outputs": [],
   "source": [
    "# ambil data waktu dan tanggal dari timestamp ke dalam kolom baru\n",
    "df['Tanggal'] = df['Timestamp'].dt.date\n",
    "df['Jam'] = df['Timestamp'].dt.time"
   ]
  },
  {
   "cell_type": "code",
   "execution_count": 15,
   "metadata": {},
   "outputs": [],
   "source": [
    "# ubah kembali data tanggal ke dalam tipe datetime\n",
    "df['Tanggal'] = pd.to_datetime(df['Tanggal'])"
   ]
  },
  {
   "cell_type": "code",
   "execution_count": 16,
   "metadata": {},
   "outputs": [],
   "source": [
    "# ubah data waktu ke dalam tipe timedelta agar dapat divisualisasikan\n",
    "df['Jam'] = df['Jam'].apply(lambda x: timedelta(hours=x.hour, minutes=x.minute, seconds=x.second))"
   ]
  },
  {
   "cell_type": "code",
   "execution_count": 17,
   "metadata": {},
   "outputs": [],
   "source": [
    "# hapus kolom timestamp karena sudah tidak dibutuhkan lagi\n",
    "df = df.drop(columns=['Timestamp'])"
   ]
  },
  {
   "cell_type": "code",
   "execution_count": 18,
   "metadata": {},
   "outputs": [
    {
     "data": {
      "text/html": [
       "<div>\n",
       "<style scoped>\n",
       "    .dataframe tbody tr th:only-of-type {\n",
       "        vertical-align: middle;\n",
       "    }\n",
       "\n",
       "    .dataframe tbody tr th {\n",
       "        vertical-align: top;\n",
       "    }\n",
       "\n",
       "    .dataframe thead th {\n",
       "        text-align: right;\n",
       "    }\n",
       "</style>\n",
       "<table border=\"1\" class=\"dataframe\">\n",
       "  <thead>\n",
       "    <tr style=\"text-align: right;\">\n",
       "      <th></th>\n",
       "      <th>GempaID</th>\n",
       "      <th>Latitude</th>\n",
       "      <th>Longitude</th>\n",
       "      <th>Magnitudo</th>\n",
       "      <th>Kedalaman</th>\n",
       "      <th>Area</th>\n",
       "      <th>Tanggal</th>\n",
       "      <th>Jam</th>\n",
       "    </tr>\n",
       "  </thead>\n",
       "  <tbody>\n",
       "    <tr>\n",
       "      <th>0</th>\n",
       "      <td>bmg2008vkye</td>\n",
       "      <td>-0.604440</td>\n",
       "      <td>98.895531</td>\n",
       "      <td>2.989742</td>\n",
       "      <td>20</td>\n",
       "      <td>Southern Sumatra, Indonesia</td>\n",
       "      <td>2008-11-01</td>\n",
       "      <td>0 days 00:31:25</td>\n",
       "    </tr>\n",
       "    <tr>\n",
       "      <th>1</th>\n",
       "      <td>bmg2008vlag</td>\n",
       "      <td>-6.611860</td>\n",
       "      <td>129.387220</td>\n",
       "      <td>5.507549</td>\n",
       "      <td>30</td>\n",
       "      <td>Banda Sea</td>\n",
       "      <td>2008-11-01</td>\n",
       "      <td>0 days 01:34:29</td>\n",
       "    </tr>\n",
       "    <tr>\n",
       "      <th>2</th>\n",
       "      <td>bmg2008vlaj</td>\n",
       "      <td>-3.650586</td>\n",
       "      <td>127.990680</td>\n",
       "      <td>3.539674</td>\n",
       "      <td>5</td>\n",
       "      <td>Seram, Indonesia</td>\n",
       "      <td>2008-11-01</td>\n",
       "      <td>0 days 01:38:14</td>\n",
       "    </tr>\n",
       "    <tr>\n",
       "      <th>3</th>\n",
       "      <td>bmg2008vlbt</td>\n",
       "      <td>-4.198925</td>\n",
       "      <td>128.097000</td>\n",
       "      <td>2.424314</td>\n",
       "      <td>5</td>\n",
       "      <td>Banda Sea</td>\n",
       "      <td>2008-11-01</td>\n",
       "      <td>0 days 02:20:05</td>\n",
       "    </tr>\n",
       "    <tr>\n",
       "      <th>4</th>\n",
       "      <td>bmg2008vlcd</td>\n",
       "      <td>-4.091891</td>\n",
       "      <td>128.200470</td>\n",
       "      <td>2.410045</td>\n",
       "      <td>10</td>\n",
       "      <td>Banda Sea</td>\n",
       "      <td>2008-11-01</td>\n",
       "      <td>0 days 02:32:18</td>\n",
       "    </tr>\n",
       "  </tbody>\n",
       "</table>\n",
       "</div>"
      ],
      "text/plain": [
       "       GempaID  Latitude   Longitude  Magnitudo  Kedalaman  \\\n",
       "0  bmg2008vkye -0.604440   98.895531   2.989742         20   \n",
       "1  bmg2008vlag -6.611860  129.387220   5.507549         30   \n",
       "2  bmg2008vlaj -3.650586  127.990680   3.539674          5   \n",
       "3  bmg2008vlbt -4.198925  128.097000   2.424314          5   \n",
       "4  bmg2008vlcd -4.091891  128.200470   2.410045         10   \n",
       "\n",
       "                          Area    Tanggal             Jam  \n",
       "0  Southern Sumatra, Indonesia 2008-11-01 0 days 00:31:25  \n",
       "1                    Banda Sea 2008-11-01 0 days 01:34:29  \n",
       "2             Seram, Indonesia 2008-11-01 0 days 01:38:14  \n",
       "3                    Banda Sea 2008-11-01 0 days 02:20:05  \n",
       "4                    Banda Sea 2008-11-01 0 days 02:32:18  "
      ]
     },
     "execution_count": 18,
     "metadata": {},
     "output_type": "execute_result"
    }
   ],
   "source": [
    "# tampilkan kembali dataframe untuk diamati\n",
    "df.head()"
   ]
  },
  {
   "cell_type": "code",
   "execution_count": 19,
   "metadata": {},
   "outputs": [
    {
     "name": "stdout",
     "output_type": "stream",
     "text": [
      "<class 'pandas.core.frame.DataFrame'>\n",
      "Index: 116715 entries, 0 to 117250\n",
      "Data columns (total 8 columns):\n",
      " #   Column     Non-Null Count   Dtype          \n",
      "---  ------     --------------   -----          \n",
      " 0   GempaID    116715 non-null  object         \n",
      " 1   Latitude   116715 non-null  float64        \n",
      " 2   Longitude  116715 non-null  float64        \n",
      " 3   Magnitudo  116715 non-null  float64        \n",
      " 4   Kedalaman  116715 non-null  int64          \n",
      " 5   Area       116715 non-null  object         \n",
      " 6   Tanggal    116715 non-null  datetime64[ns] \n",
      " 7   Jam        116715 non-null  timedelta64[ns]\n",
      "dtypes: datetime64[ns](1), float64(3), int64(1), object(2), timedelta64[ns](1)\n",
      "memory usage: 8.0+ MB\n"
     ]
    }
   ],
   "source": [
    "# cek kembali informasi dataframe untuk memastikan format sudah benar\n",
    "df.info()"
   ]
  },
  {
   "cell_type": "markdown",
   "metadata": {},
   "source": [
    "Karena data tanggal dan waktu gempa sudah sesuai, maka koreksi format dan value dari dataframe sudah selesai."
   ]
  },
  {
   "cell_type": "markdown",
   "metadata": {},
   "source": [
    "## 4.5 Pembulatan data Magnitudo ke 2 Angka di Belakang Koma"
   ]
  },
  {
   "cell_type": "markdown",
   "metadata": {},
   "source": [
    "Data magnitudo gempa dengan jenis float tertulis dengan format 6 angka di belakang koma. Agar analisis lebih efisien maka perlu dilakukan pembulatan menjadi 2 angka di belakang koma. Pembulatan ini berguna dalam central tendency analysis khususnya di bagian modus."
   ]
  },
  {
   "cell_type": "code",
   "execution_count": 20,
   "metadata": {},
   "outputs": [
    {
     "data": {
      "text/html": [
       "<div>\n",
       "<style scoped>\n",
       "    .dataframe tbody tr th:only-of-type {\n",
       "        vertical-align: middle;\n",
       "    }\n",
       "\n",
       "    .dataframe tbody tr th {\n",
       "        vertical-align: top;\n",
       "    }\n",
       "\n",
       "    .dataframe thead th {\n",
       "        text-align: right;\n",
       "    }\n",
       "</style>\n",
       "<table border=\"1\" class=\"dataframe\">\n",
       "  <thead>\n",
       "    <tr style=\"text-align: right;\">\n",
       "      <th></th>\n",
       "      <th>GempaID</th>\n",
       "      <th>Latitude</th>\n",
       "      <th>Longitude</th>\n",
       "      <th>Magnitudo</th>\n",
       "      <th>Kedalaman</th>\n",
       "      <th>Area</th>\n",
       "      <th>Tanggal</th>\n",
       "      <th>Jam</th>\n",
       "    </tr>\n",
       "  </thead>\n",
       "  <tbody>\n",
       "    <tr>\n",
       "      <th>0</th>\n",
       "      <td>bmg2008vkye</td>\n",
       "      <td>-0.604440</td>\n",
       "      <td>98.895531</td>\n",
       "      <td>2.99</td>\n",
       "      <td>20</td>\n",
       "      <td>Southern Sumatra, Indonesia</td>\n",
       "      <td>2008-11-01</td>\n",
       "      <td>0 days 00:31:25</td>\n",
       "    </tr>\n",
       "    <tr>\n",
       "      <th>1</th>\n",
       "      <td>bmg2008vlag</td>\n",
       "      <td>-6.611860</td>\n",
       "      <td>129.387220</td>\n",
       "      <td>5.51</td>\n",
       "      <td>30</td>\n",
       "      <td>Banda Sea</td>\n",
       "      <td>2008-11-01</td>\n",
       "      <td>0 days 01:34:29</td>\n",
       "    </tr>\n",
       "    <tr>\n",
       "      <th>2</th>\n",
       "      <td>bmg2008vlaj</td>\n",
       "      <td>-3.650586</td>\n",
       "      <td>127.990680</td>\n",
       "      <td>3.54</td>\n",
       "      <td>5</td>\n",
       "      <td>Seram, Indonesia</td>\n",
       "      <td>2008-11-01</td>\n",
       "      <td>0 days 01:38:14</td>\n",
       "    </tr>\n",
       "    <tr>\n",
       "      <th>3</th>\n",
       "      <td>bmg2008vlbt</td>\n",
       "      <td>-4.198925</td>\n",
       "      <td>128.097000</td>\n",
       "      <td>2.42</td>\n",
       "      <td>5</td>\n",
       "      <td>Banda Sea</td>\n",
       "      <td>2008-11-01</td>\n",
       "      <td>0 days 02:20:05</td>\n",
       "    </tr>\n",
       "    <tr>\n",
       "      <th>4</th>\n",
       "      <td>bmg2008vlcd</td>\n",
       "      <td>-4.091891</td>\n",
       "      <td>128.200470</td>\n",
       "      <td>2.41</td>\n",
       "      <td>10</td>\n",
       "      <td>Banda Sea</td>\n",
       "      <td>2008-11-01</td>\n",
       "      <td>0 days 02:32:18</td>\n",
       "    </tr>\n",
       "  </tbody>\n",
       "</table>\n",
       "</div>"
      ],
      "text/plain": [
       "       GempaID  Latitude   Longitude  Magnitudo  Kedalaman  \\\n",
       "0  bmg2008vkye -0.604440   98.895531       2.99         20   \n",
       "1  bmg2008vlag -6.611860  129.387220       5.51         30   \n",
       "2  bmg2008vlaj -3.650586  127.990680       3.54          5   \n",
       "3  bmg2008vlbt -4.198925  128.097000       2.42          5   \n",
       "4  bmg2008vlcd -4.091891  128.200470       2.41         10   \n",
       "\n",
       "                          Area    Tanggal             Jam  \n",
       "0  Southern Sumatra, Indonesia 2008-11-01 0 days 00:31:25  \n",
       "1                    Banda Sea 2008-11-01 0 days 01:34:29  \n",
       "2             Seram, Indonesia 2008-11-01 0 days 01:38:14  \n",
       "3                    Banda Sea 2008-11-01 0 days 02:20:05  \n",
       "4                    Banda Sea 2008-11-01 0 days 02:32:18  "
      ]
     },
     "execution_count": 20,
     "metadata": {},
     "output_type": "execute_result"
    }
   ],
   "source": [
    "# bulatkan nilai magnitudo ke 2 angka di belakang koma\n",
    "df['Magnitudo'] = df['Magnitudo'].apply(lambda x: round(x, 2))\n",
    "df.head()"
   ]
  },
  {
   "cell_type": "markdown",
   "metadata": {},
   "source": [
    "## 4.6 Penambahan Kolom untuk Kepentingan Analisis"
   ]
  },
  {
   "cell_type": "markdown",
   "metadata": {},
   "source": [
    "Karena analisis yang akan dilakukan berfokus pada area dengan potensi gempa merusak, maka harus dibuat kolom baru dengan value pengelompokkan gempa berdasarkan besar magnitudo.\n",
    "\n",
    "Magnitudo gempa akan dikelompokkan berdasarkan Klasifikasi Gempa oleh Badan Meteorologi, Klimatologi dan Geofisika (BMKG):\n",
    "- Gempa Mikro : magnitudo < 2.0\n",
    "- Gempa Sangat Kecil : 2.0 <= magnitudo < 4.0\n",
    "- Gempa Kecil : 4.0 <= magnitudo < 5.0\n",
    "- Gempa Sedang : 5.0 <= magnitudo < 6.0\n",
    "- Gempa Kuat : 6.0 <= magnitudo < 7.0\n",
    "- Gempa Besar : 7.0 <= magnitudo < 8.0\n",
    "- Gempa Sangat Besar : 8.0 <= magnitudo < 10.0\n",
    "- Gempa Raksasa : magnitudo >= 10.0"
   ]
  },
  {
   "cell_type": "markdown",
   "metadata": {},
   "source": [
    "Dari klasifikasi di atas, kita bisa kelompokkan magnitudo gempa berdasarkan kategorinya yaitu kecil, sedang dan besar."
   ]
  },
  {
   "cell_type": "code",
   "execution_count": 21,
   "metadata": {},
   "outputs": [],
   "source": [
    "# buat kolom baru untuk pengelompokkan kategori gempa berdasarkan besar magnitudo\n",
    "df['Magnitudo']\n",
    "kategori=[]\n",
    "\n",
    "for x in df['Magnitudo']:\n",
    "    if x < 5:\n",
    "        kategori.append('Kecil')\n",
    "    elif 5 <= x < 6:\n",
    "        kategori.append('Sedang')\n",
    "    else:\n",
    "        kategori.append('Besar')\n",
    "        \n",
    "df['Kategori'] = kategori"
   ]
  },
  {
   "cell_type": "markdown",
   "metadata": {},
   "source": [
    "Selain menambahkan kolom kategori, dibutuhkan juga kolom destruktif untuk mengelompokkan kembali kategori gempa ke dalam variabel ya atau tidak."
   ]
  },
  {
   "cell_type": "code",
   "execution_count": 22,
   "metadata": {},
   "outputs": [],
   "source": [
    "# buat kolom baru untuk pengelompokkan kategori gempa berdasarkan besar magnitudo\n",
    "df['Kategori']\n",
    "destruktif=[]\n",
    "\n",
    "for x in df['Kategori']:\n",
    "    if x == \"Besar\":\n",
    "        destruktif.append('Ya')\n",
    "    else:\n",
    "        destruktif.append('Tidak')\n",
    "        \n",
    "df['Destruktif'] = destruktif"
   ]
  },
  {
   "cell_type": "code",
   "execution_count": 23,
   "metadata": {},
   "outputs": [
    {
     "data": {
      "text/html": [
       "<div>\n",
       "<style scoped>\n",
       "    .dataframe tbody tr th:only-of-type {\n",
       "        vertical-align: middle;\n",
       "    }\n",
       "\n",
       "    .dataframe tbody tr th {\n",
       "        vertical-align: top;\n",
       "    }\n",
       "\n",
       "    .dataframe thead th {\n",
       "        text-align: right;\n",
       "    }\n",
       "</style>\n",
       "<table border=\"1\" class=\"dataframe\">\n",
       "  <thead>\n",
       "    <tr style=\"text-align: right;\">\n",
       "      <th></th>\n",
       "      <th>GempaID</th>\n",
       "      <th>Latitude</th>\n",
       "      <th>Longitude</th>\n",
       "      <th>Magnitudo</th>\n",
       "      <th>Kedalaman</th>\n",
       "      <th>Area</th>\n",
       "      <th>Tanggal</th>\n",
       "      <th>Jam</th>\n",
       "      <th>Kategori</th>\n",
       "      <th>Destruktif</th>\n",
       "    </tr>\n",
       "  </thead>\n",
       "  <tbody>\n",
       "    <tr>\n",
       "      <th>0</th>\n",
       "      <td>bmg2008vkye</td>\n",
       "      <td>-0.604440</td>\n",
       "      <td>98.895531</td>\n",
       "      <td>2.99</td>\n",
       "      <td>20</td>\n",
       "      <td>Southern Sumatra, Indonesia</td>\n",
       "      <td>2008-11-01</td>\n",
       "      <td>0 days 00:31:25</td>\n",
       "      <td>Kecil</td>\n",
       "      <td>Tidak</td>\n",
       "    </tr>\n",
       "    <tr>\n",
       "      <th>1</th>\n",
       "      <td>bmg2008vlag</td>\n",
       "      <td>-6.611860</td>\n",
       "      <td>129.387220</td>\n",
       "      <td>5.51</td>\n",
       "      <td>30</td>\n",
       "      <td>Banda Sea</td>\n",
       "      <td>2008-11-01</td>\n",
       "      <td>0 days 01:34:29</td>\n",
       "      <td>Sedang</td>\n",
       "      <td>Tidak</td>\n",
       "    </tr>\n",
       "    <tr>\n",
       "      <th>2</th>\n",
       "      <td>bmg2008vlaj</td>\n",
       "      <td>-3.650586</td>\n",
       "      <td>127.990680</td>\n",
       "      <td>3.54</td>\n",
       "      <td>5</td>\n",
       "      <td>Seram, Indonesia</td>\n",
       "      <td>2008-11-01</td>\n",
       "      <td>0 days 01:38:14</td>\n",
       "      <td>Kecil</td>\n",
       "      <td>Tidak</td>\n",
       "    </tr>\n",
       "    <tr>\n",
       "      <th>3</th>\n",
       "      <td>bmg2008vlbt</td>\n",
       "      <td>-4.198925</td>\n",
       "      <td>128.097000</td>\n",
       "      <td>2.42</td>\n",
       "      <td>5</td>\n",
       "      <td>Banda Sea</td>\n",
       "      <td>2008-11-01</td>\n",
       "      <td>0 days 02:20:05</td>\n",
       "      <td>Kecil</td>\n",
       "      <td>Tidak</td>\n",
       "    </tr>\n",
       "    <tr>\n",
       "      <th>4</th>\n",
       "      <td>bmg2008vlcd</td>\n",
       "      <td>-4.091891</td>\n",
       "      <td>128.200470</td>\n",
       "      <td>2.41</td>\n",
       "      <td>10</td>\n",
       "      <td>Banda Sea</td>\n",
       "      <td>2008-11-01</td>\n",
       "      <td>0 days 02:32:18</td>\n",
       "      <td>Kecil</td>\n",
       "      <td>Tidak</td>\n",
       "    </tr>\n",
       "  </tbody>\n",
       "</table>\n",
       "</div>"
      ],
      "text/plain": [
       "       GempaID  Latitude   Longitude  Magnitudo  Kedalaman  \\\n",
       "0  bmg2008vkye -0.604440   98.895531       2.99         20   \n",
       "1  bmg2008vlag -6.611860  129.387220       5.51         30   \n",
       "2  bmg2008vlaj -3.650586  127.990680       3.54          5   \n",
       "3  bmg2008vlbt -4.198925  128.097000       2.42          5   \n",
       "4  bmg2008vlcd -4.091891  128.200470       2.41         10   \n",
       "\n",
       "                          Area    Tanggal             Jam Kategori Destruktif  \n",
       "0  Southern Sumatra, Indonesia 2008-11-01 0 days 00:31:25    Kecil      Tidak  \n",
       "1                    Banda Sea 2008-11-01 0 days 01:34:29   Sedang      Tidak  \n",
       "2             Seram, Indonesia 2008-11-01 0 days 01:38:14    Kecil      Tidak  \n",
       "3                    Banda Sea 2008-11-01 0 days 02:20:05    Kecil      Tidak  \n",
       "4                    Banda Sea 2008-11-01 0 days 02:32:18    Kecil      Tidak  "
      ]
     },
     "execution_count": 23,
     "metadata": {},
     "output_type": "execute_result"
    }
   ],
   "source": [
    "# tampilkan kembali dataframe untuk mengamati hasil perubahan\n",
    "df.head()"
   ]
  },
  {
   "cell_type": "markdown",
   "metadata": {},
   "source": [
    "## 4.7 Merubah Data Kedalaman ke Dalam Format Negatif"
   ]
  },
  {
   "cell_type": "markdown",
   "metadata": {},
   "source": [
    "Data dalam kolom kedalaman merupakan data yang merepresentasikan kedalaman dari pusat gempa. Agar memudahkan dalam visualisasi, data harus disesuaikan ke dalam nilai negatif mengingat kedalaman (ke arah bawah) bersifat negatif berdasarkan parameter meter di atas permukaan laut (mdpl)."
   ]
  },
  {
   "cell_type": "code",
   "execution_count": 24,
   "metadata": {},
   "outputs": [
    {
     "data": {
      "text/html": [
       "<div>\n",
       "<style scoped>\n",
       "    .dataframe tbody tr th:only-of-type {\n",
       "        vertical-align: middle;\n",
       "    }\n",
       "\n",
       "    .dataframe tbody tr th {\n",
       "        vertical-align: top;\n",
       "    }\n",
       "\n",
       "    .dataframe thead th {\n",
       "        text-align: right;\n",
       "    }\n",
       "</style>\n",
       "<table border=\"1\" class=\"dataframe\">\n",
       "  <thead>\n",
       "    <tr style=\"text-align: right;\">\n",
       "      <th></th>\n",
       "      <th>GempaID</th>\n",
       "      <th>Latitude</th>\n",
       "      <th>Longitude</th>\n",
       "      <th>Magnitudo</th>\n",
       "      <th>Kedalaman</th>\n",
       "      <th>Area</th>\n",
       "      <th>Tanggal</th>\n",
       "      <th>Jam</th>\n",
       "      <th>Kategori</th>\n",
       "      <th>Destruktif</th>\n",
       "    </tr>\n",
       "  </thead>\n",
       "  <tbody>\n",
       "    <tr>\n",
       "      <th>0</th>\n",
       "      <td>bmg2008vkye</td>\n",
       "      <td>-0.604440</td>\n",
       "      <td>98.895531</td>\n",
       "      <td>2.99</td>\n",
       "      <td>-20</td>\n",
       "      <td>Southern Sumatra, Indonesia</td>\n",
       "      <td>2008-11-01</td>\n",
       "      <td>0 days 00:31:25</td>\n",
       "      <td>Kecil</td>\n",
       "      <td>Tidak</td>\n",
       "    </tr>\n",
       "    <tr>\n",
       "      <th>1</th>\n",
       "      <td>bmg2008vlag</td>\n",
       "      <td>-6.611860</td>\n",
       "      <td>129.387220</td>\n",
       "      <td>5.51</td>\n",
       "      <td>-30</td>\n",
       "      <td>Banda Sea</td>\n",
       "      <td>2008-11-01</td>\n",
       "      <td>0 days 01:34:29</td>\n",
       "      <td>Sedang</td>\n",
       "      <td>Tidak</td>\n",
       "    </tr>\n",
       "    <tr>\n",
       "      <th>2</th>\n",
       "      <td>bmg2008vlaj</td>\n",
       "      <td>-3.650586</td>\n",
       "      <td>127.990680</td>\n",
       "      <td>3.54</td>\n",
       "      <td>-5</td>\n",
       "      <td>Seram, Indonesia</td>\n",
       "      <td>2008-11-01</td>\n",
       "      <td>0 days 01:38:14</td>\n",
       "      <td>Kecil</td>\n",
       "      <td>Tidak</td>\n",
       "    </tr>\n",
       "    <tr>\n",
       "      <th>3</th>\n",
       "      <td>bmg2008vlbt</td>\n",
       "      <td>-4.198925</td>\n",
       "      <td>128.097000</td>\n",
       "      <td>2.42</td>\n",
       "      <td>-5</td>\n",
       "      <td>Banda Sea</td>\n",
       "      <td>2008-11-01</td>\n",
       "      <td>0 days 02:20:05</td>\n",
       "      <td>Kecil</td>\n",
       "      <td>Tidak</td>\n",
       "    </tr>\n",
       "    <tr>\n",
       "      <th>4</th>\n",
       "      <td>bmg2008vlcd</td>\n",
       "      <td>-4.091891</td>\n",
       "      <td>128.200470</td>\n",
       "      <td>2.41</td>\n",
       "      <td>-10</td>\n",
       "      <td>Banda Sea</td>\n",
       "      <td>2008-11-01</td>\n",
       "      <td>0 days 02:32:18</td>\n",
       "      <td>Kecil</td>\n",
       "      <td>Tidak</td>\n",
       "    </tr>\n",
       "  </tbody>\n",
       "</table>\n",
       "</div>"
      ],
      "text/plain": [
       "       GempaID  Latitude   Longitude  Magnitudo  Kedalaman  \\\n",
       "0  bmg2008vkye -0.604440   98.895531       2.99        -20   \n",
       "1  bmg2008vlag -6.611860  129.387220       5.51        -30   \n",
       "2  bmg2008vlaj -3.650586  127.990680       3.54         -5   \n",
       "3  bmg2008vlbt -4.198925  128.097000       2.42         -5   \n",
       "4  bmg2008vlcd -4.091891  128.200470       2.41        -10   \n",
       "\n",
       "                          Area    Tanggal             Jam Kategori Destruktif  \n",
       "0  Southern Sumatra, Indonesia 2008-11-01 0 days 00:31:25    Kecil      Tidak  \n",
       "1                    Banda Sea 2008-11-01 0 days 01:34:29   Sedang      Tidak  \n",
       "2             Seram, Indonesia 2008-11-01 0 days 01:38:14    Kecil      Tidak  \n",
       "3                    Banda Sea 2008-11-01 0 days 02:20:05    Kecil      Tidak  \n",
       "4                    Banda Sea 2008-11-01 0 days 02:32:18    Kecil      Tidak  "
      ]
     },
     "execution_count": 24,
     "metadata": {},
     "output_type": "execute_result"
    }
   ],
   "source": [
    "df['Kedalaman'] = df['Kedalaman'] * -1\n",
    "df.head()"
   ]
  },
  {
   "cell_type": "markdown",
   "metadata": {},
   "source": [
    "## 4.8 Mengelompokkan Kolom Waktu"
   ]
  },
  {
   "cell_type": "markdown",
   "metadata": {},
   "source": [
    "Untuk kepentingan visualisasi, data waktu yang bertipe timedelta akan dikategorikan berdasarkan jam. Pembuatan kategori waktu memiliki ketentuan mengikuti nilai dari jam-nya. Contoh nilai waktu 0 days 02:20:05 akan dikategorikan ke dalam jam 2."
   ]
  },
  {
   "cell_type": "code",
   "execution_count": 25,
   "metadata": {},
   "outputs": [],
   "source": [
    "# buat kolom baru untuk pengelompokkan kategori gempa berdasarkan besar magnitudo\n",
    "df['Jam']\n",
    "timerange=[]\n",
    "\n",
    "for x in df['Jam']:\n",
    "    seconds = x.total_seconds()\n",
    "    if seconds <= 3600:\n",
    "        timerange.append(0)\n",
    "    elif 3600 < seconds <= 7200:\n",
    "        timerange.append(1)\n",
    "    elif 7200 < seconds <= 10800:\n",
    "        timerange.append(2)\n",
    "    elif 10800 < seconds <= 14400:\n",
    "        timerange.append(3)\n",
    "    elif 14400 < seconds <= 18000:\n",
    "        timerange.append(4)\n",
    "    elif 18000 < seconds <= 21600:\n",
    "        timerange.append(5)\n",
    "    elif 21600 < seconds <= 25200:\n",
    "        timerange.append(6)\n",
    "    elif 25200 < seconds <= 28800:\n",
    "        timerange.append(7)\n",
    "    elif 28800 < seconds <= 32400:\n",
    "        timerange.append(8)\n",
    "    elif 32400 < seconds <= 36000:\n",
    "        timerange.append(9)\n",
    "    elif 36000 < seconds <= 39600:\n",
    "        timerange.append(10)\n",
    "    elif 39600 < seconds <= 43200:\n",
    "        timerange.append(11)\n",
    "    elif 43200 < seconds <= 46800:\n",
    "        timerange.append(12)\n",
    "    elif 46800 < seconds <= 50400:\n",
    "        timerange.append(13)\n",
    "    elif 46800 < seconds <= 50400:\n",
    "        timerange.append(14)\n",
    "    elif 50400 < seconds <= 57600:\n",
    "        timerange.append(15)\n",
    "    elif 57600 < seconds <= 61200:\n",
    "        timerange.append(16)\n",
    "    elif 61200 < seconds <= 64800:\n",
    "        timerange.append(17)\n",
    "    elif 64800 < seconds <= 68400:\n",
    "        timerange.append(18)\n",
    "    elif 68400 < seconds <= 72000:\n",
    "        timerange.append(19)\n",
    "    elif 72000 < seconds <= 75600:\n",
    "        timerange.append(20)\n",
    "    elif 75600 < seconds <= 79200:\n",
    "        timerange.append(21)\n",
    "    elif 79200 < seconds <= 82800:\n",
    "        timerange.append(22)\n",
    "    elif 82800 < seconds <= 86400:\n",
    "        timerange.append(23)\n",
    "\n",
    "df['Jam'] = timerange"
   ]
  },
  {
   "cell_type": "markdown",
   "metadata": {},
   "source": [
    "## 4.9 Pembuatan Dataframe Baru untuk Kebutuhan Pendekatan Visualisasi"
   ]
  },
  {
   "cell_type": "markdown",
   "metadata": {},
   "source": [
    "Untuk visualisasi data, diperlukan dataframe baru yang merupakan filtered dataframe dari dataframe utama.\n",
    "Dataframe baru digunakan untuk visualisasi yang hanya membutuhkan baris dengan kolom destruktif berisi \"Ya\"."
   ]
  },
  {
   "cell_type": "code",
   "execution_count": 26,
   "metadata": {},
   "outputs": [
    {
     "name": "stdout",
     "output_type": "stream",
     "text": [
      "<class 'pandas.core.frame.DataFrame'>\n",
      "Index: 471 entries, 72 to 116200\n",
      "Data columns (total 10 columns):\n",
      " #   Column      Non-Null Count  Dtype         \n",
      "---  ------      --------------  -----         \n",
      " 0   GempaID     471 non-null    object        \n",
      " 1   Latitude    471 non-null    float64       \n",
      " 2   Longitude   471 non-null    float64       \n",
      " 3   Magnitudo   471 non-null    float64       \n",
      " 4   Kedalaman   471 non-null    int64         \n",
      " 5   Area        471 non-null    object        \n",
      " 6   Tanggal     471 non-null    datetime64[ns]\n",
      " 7   Jam         471 non-null    int64         \n",
      " 8   Kategori    471 non-null    object        \n",
      " 9   Destruktif  471 non-null    object        \n",
      "dtypes: datetime64[ns](1), float64(3), int64(2), object(4)\n",
      "memory usage: 40.5+ KB\n"
     ]
    }
   ],
   "source": [
    "# buat dataframe baru dengan filter dataframe utama berdasarkan kolom destruktif\n",
    "df_destructive = df[df['Destruktif'] == \"Ya\"]\n",
    "df_destructive.info()"
   ]
  },
  {
   "cell_type": "markdown",
   "metadata": {},
   "source": [
    "Dapat dilihat dari sekitar 116.000 data, hanya sekitar 4.800 gempa yang bersifat destruktif."
   ]
  },
  {
   "cell_type": "markdown",
   "metadata": {},
   "source": [
    "## 4.10 Pengurutan Kolom agar Mudah Diamati"
   ]
  },
  {
   "cell_type": "markdown",
   "metadata": {},
   "source": [
    "Agar analisis dan pengamatan data lebih mudah, urutkan kolom ke dalam urutan yang lebih sesuai"
   ]
  },
  {
   "cell_type": "code",
   "execution_count": 27,
   "metadata": {},
   "outputs": [
    {
     "data": {
      "text/html": [
       "<div>\n",
       "<style scoped>\n",
       "    .dataframe tbody tr th:only-of-type {\n",
       "        vertical-align: middle;\n",
       "    }\n",
       "\n",
       "    .dataframe tbody tr th {\n",
       "        vertical-align: top;\n",
       "    }\n",
       "\n",
       "    .dataframe thead th {\n",
       "        text-align: right;\n",
       "    }\n",
       "</style>\n",
       "<table border=\"1\" class=\"dataframe\">\n",
       "  <thead>\n",
       "    <tr style=\"text-align: right;\">\n",
       "      <th></th>\n",
       "      <th>GempaID</th>\n",
       "      <th>Latitude</th>\n",
       "      <th>Longitude</th>\n",
       "      <th>Magnitudo</th>\n",
       "      <th>Kedalaman</th>\n",
       "      <th>Area</th>\n",
       "      <th>Tanggal</th>\n",
       "      <th>Jam</th>\n",
       "      <th>Kategori</th>\n",
       "      <th>Destruktif</th>\n",
       "    </tr>\n",
       "  </thead>\n",
       "  <tbody>\n",
       "    <tr>\n",
       "      <th>0</th>\n",
       "      <td>bmg2008vkye</td>\n",
       "      <td>-0.604440</td>\n",
       "      <td>98.895531</td>\n",
       "      <td>2.99</td>\n",
       "      <td>-20</td>\n",
       "      <td>Southern Sumatra, Indonesia</td>\n",
       "      <td>2008-11-01</td>\n",
       "      <td>0</td>\n",
       "      <td>Kecil</td>\n",
       "      <td>Tidak</td>\n",
       "    </tr>\n",
       "    <tr>\n",
       "      <th>1</th>\n",
       "      <td>bmg2008vlag</td>\n",
       "      <td>-6.611860</td>\n",
       "      <td>129.387220</td>\n",
       "      <td>5.51</td>\n",
       "      <td>-30</td>\n",
       "      <td>Banda Sea</td>\n",
       "      <td>2008-11-01</td>\n",
       "      <td>1</td>\n",
       "      <td>Sedang</td>\n",
       "      <td>Tidak</td>\n",
       "    </tr>\n",
       "    <tr>\n",
       "      <th>2</th>\n",
       "      <td>bmg2008vlaj</td>\n",
       "      <td>-3.650586</td>\n",
       "      <td>127.990680</td>\n",
       "      <td>3.54</td>\n",
       "      <td>-5</td>\n",
       "      <td>Seram, Indonesia</td>\n",
       "      <td>2008-11-01</td>\n",
       "      <td>1</td>\n",
       "      <td>Kecil</td>\n",
       "      <td>Tidak</td>\n",
       "    </tr>\n",
       "    <tr>\n",
       "      <th>3</th>\n",
       "      <td>bmg2008vlbt</td>\n",
       "      <td>-4.198925</td>\n",
       "      <td>128.097000</td>\n",
       "      <td>2.42</td>\n",
       "      <td>-5</td>\n",
       "      <td>Banda Sea</td>\n",
       "      <td>2008-11-01</td>\n",
       "      <td>2</td>\n",
       "      <td>Kecil</td>\n",
       "      <td>Tidak</td>\n",
       "    </tr>\n",
       "    <tr>\n",
       "      <th>4</th>\n",
       "      <td>bmg2008vlcd</td>\n",
       "      <td>-4.091891</td>\n",
       "      <td>128.200470</td>\n",
       "      <td>2.41</td>\n",
       "      <td>-10</td>\n",
       "      <td>Banda Sea</td>\n",
       "      <td>2008-11-01</td>\n",
       "      <td>2</td>\n",
       "      <td>Kecil</td>\n",
       "      <td>Tidak</td>\n",
       "    </tr>\n",
       "  </tbody>\n",
       "</table>\n",
       "</div>"
      ],
      "text/plain": [
       "       GempaID  Latitude   Longitude  Magnitudo  Kedalaman  \\\n",
       "0  bmg2008vkye -0.604440   98.895531       2.99        -20   \n",
       "1  bmg2008vlag -6.611860  129.387220       5.51        -30   \n",
       "2  bmg2008vlaj -3.650586  127.990680       3.54         -5   \n",
       "3  bmg2008vlbt -4.198925  128.097000       2.42         -5   \n",
       "4  bmg2008vlcd -4.091891  128.200470       2.41        -10   \n",
       "\n",
       "                          Area    Tanggal  Jam Kategori Destruktif  \n",
       "0  Southern Sumatra, Indonesia 2008-11-01    0    Kecil      Tidak  \n",
       "1                    Banda Sea 2008-11-01    1   Sedang      Tidak  \n",
       "2             Seram, Indonesia 2008-11-01    1    Kecil      Tidak  \n",
       "3                    Banda Sea 2008-11-01    2    Kecil      Tidak  \n",
       "4                    Banda Sea 2008-11-01    2    Kecil      Tidak  "
      ]
     },
     "execution_count": 27,
     "metadata": {},
     "output_type": "execute_result"
    }
   ],
   "source": [
    "# tampilkan dataframe untuk mengurutkan kolom berdasarkan index\n",
    "df.head()"
   ]
  },
  {
   "cell_type": "code",
   "execution_count": 28,
   "metadata": {},
   "outputs": [],
   "source": [
    "# ubah urutan kolom agar lebih mudah diamati\n",
    "df = df.iloc[:, [0,6,7,1,2,3,8,9,4,5]]"
   ]
  },
  {
   "cell_type": "code",
   "execution_count": 29,
   "metadata": {},
   "outputs": [
    {
     "data": {
      "text/html": [
       "<div>\n",
       "<style scoped>\n",
       "    .dataframe tbody tr th:only-of-type {\n",
       "        vertical-align: middle;\n",
       "    }\n",
       "\n",
       "    .dataframe tbody tr th {\n",
       "        vertical-align: top;\n",
       "    }\n",
       "\n",
       "    .dataframe thead th {\n",
       "        text-align: right;\n",
       "    }\n",
       "</style>\n",
       "<table border=\"1\" class=\"dataframe\">\n",
       "  <thead>\n",
       "    <tr style=\"text-align: right;\">\n",
       "      <th></th>\n",
       "      <th>GempaID</th>\n",
       "      <th>Tanggal</th>\n",
       "      <th>Jam</th>\n",
       "      <th>Latitude</th>\n",
       "      <th>Longitude</th>\n",
       "      <th>Magnitudo</th>\n",
       "      <th>Kategori</th>\n",
       "      <th>Destruktif</th>\n",
       "      <th>Kedalaman</th>\n",
       "      <th>Area</th>\n",
       "    </tr>\n",
       "  </thead>\n",
       "  <tbody>\n",
       "    <tr>\n",
       "      <th>0</th>\n",
       "      <td>bmg2008vkye</td>\n",
       "      <td>2008-11-01</td>\n",
       "      <td>0</td>\n",
       "      <td>-0.604440</td>\n",
       "      <td>98.895531</td>\n",
       "      <td>2.99</td>\n",
       "      <td>Kecil</td>\n",
       "      <td>Tidak</td>\n",
       "      <td>-20</td>\n",
       "      <td>Southern Sumatra, Indonesia</td>\n",
       "    </tr>\n",
       "    <tr>\n",
       "      <th>1</th>\n",
       "      <td>bmg2008vlag</td>\n",
       "      <td>2008-11-01</td>\n",
       "      <td>1</td>\n",
       "      <td>-6.611860</td>\n",
       "      <td>129.387220</td>\n",
       "      <td>5.51</td>\n",
       "      <td>Sedang</td>\n",
       "      <td>Tidak</td>\n",
       "      <td>-30</td>\n",
       "      <td>Banda Sea</td>\n",
       "    </tr>\n",
       "    <tr>\n",
       "      <th>2</th>\n",
       "      <td>bmg2008vlaj</td>\n",
       "      <td>2008-11-01</td>\n",
       "      <td>1</td>\n",
       "      <td>-3.650586</td>\n",
       "      <td>127.990680</td>\n",
       "      <td>3.54</td>\n",
       "      <td>Kecil</td>\n",
       "      <td>Tidak</td>\n",
       "      <td>-5</td>\n",
       "      <td>Seram, Indonesia</td>\n",
       "    </tr>\n",
       "    <tr>\n",
       "      <th>3</th>\n",
       "      <td>bmg2008vlbt</td>\n",
       "      <td>2008-11-01</td>\n",
       "      <td>2</td>\n",
       "      <td>-4.198925</td>\n",
       "      <td>128.097000</td>\n",
       "      <td>2.42</td>\n",
       "      <td>Kecil</td>\n",
       "      <td>Tidak</td>\n",
       "      <td>-5</td>\n",
       "      <td>Banda Sea</td>\n",
       "    </tr>\n",
       "    <tr>\n",
       "      <th>4</th>\n",
       "      <td>bmg2008vlcd</td>\n",
       "      <td>2008-11-01</td>\n",
       "      <td>2</td>\n",
       "      <td>-4.091891</td>\n",
       "      <td>128.200470</td>\n",
       "      <td>2.41</td>\n",
       "      <td>Kecil</td>\n",
       "      <td>Tidak</td>\n",
       "      <td>-10</td>\n",
       "      <td>Banda Sea</td>\n",
       "    </tr>\n",
       "  </tbody>\n",
       "</table>\n",
       "</div>"
      ],
      "text/plain": [
       "       GempaID    Tanggal  Jam  Latitude   Longitude  Magnitudo Kategori  \\\n",
       "0  bmg2008vkye 2008-11-01    0 -0.604440   98.895531       2.99    Kecil   \n",
       "1  bmg2008vlag 2008-11-01    1 -6.611860  129.387220       5.51   Sedang   \n",
       "2  bmg2008vlaj 2008-11-01    1 -3.650586  127.990680       3.54    Kecil   \n",
       "3  bmg2008vlbt 2008-11-01    2 -4.198925  128.097000       2.42    Kecil   \n",
       "4  bmg2008vlcd 2008-11-01    2 -4.091891  128.200470       2.41    Kecil   \n",
       "\n",
       "  Destruktif  Kedalaman                         Area  \n",
       "0      Tidak        -20  Southern Sumatra, Indonesia  \n",
       "1      Tidak        -30                    Banda Sea  \n",
       "2      Tidak         -5             Seram, Indonesia  \n",
       "3      Tidak         -5                    Banda Sea  \n",
       "4      Tidak        -10                    Banda Sea  "
      ]
     },
     "execution_count": 29,
     "metadata": {},
     "output_type": "execute_result"
    }
   ],
   "source": [
    "# cek kesesuaian tabel untuk diamati kembali\n",
    "df.head()"
   ]
  },
  {
   "cell_type": "code",
   "execution_count": 30,
   "metadata": {},
   "outputs": [
    {
     "name": "stdout",
     "output_type": "stream",
     "text": [
      "<class 'pandas.core.frame.DataFrame'>\n",
      "Index: 116715 entries, 0 to 117250\n",
      "Data columns (total 10 columns):\n",
      " #   Column      Non-Null Count   Dtype         \n",
      "---  ------      --------------   -----         \n",
      " 0   GempaID     116715 non-null  object        \n",
      " 1   Tanggal     116715 non-null  datetime64[ns]\n",
      " 2   Jam         116715 non-null  int64         \n",
      " 3   Latitude    116715 non-null  float64       \n",
      " 4   Longitude   116715 non-null  float64       \n",
      " 5   Magnitudo   116715 non-null  float64       \n",
      " 6   Kategori    116715 non-null  object        \n",
      " 7   Destruktif  116715 non-null  object        \n",
      " 8   Kedalaman   116715 non-null  int64         \n",
      " 9   Area        116715 non-null  object        \n",
      "dtypes: datetime64[ns](1), float64(3), int64(2), object(4)\n",
      "memory usage: 9.8+ MB\n"
     ]
    }
   ],
   "source": [
    "# cek kesesuaian kolom setelah disiapkan\n",
    "df.info()"
   ]
  },
  {
   "cell_type": "markdown",
   "metadata": {},
   "source": [
    "## 4.11 Penjelasan Tabel yang Digunakan Sebagai Dataframe"
   ]
  },
  {
   "cell_type": "code",
   "execution_count": 31,
   "metadata": {},
   "outputs": [
    {
     "data": {
      "text/html": [
       "<div>\n",
       "<style scoped>\n",
       "    .dataframe tbody tr th:only-of-type {\n",
       "        vertical-align: middle;\n",
       "    }\n",
       "\n",
       "    .dataframe tbody tr th {\n",
       "        vertical-align: top;\n",
       "    }\n",
       "\n",
       "    .dataframe thead th {\n",
       "        text-align: right;\n",
       "    }\n",
       "</style>\n",
       "<table border=\"1\" class=\"dataframe\">\n",
       "  <thead>\n",
       "    <tr style=\"text-align: right;\">\n",
       "      <th></th>\n",
       "      <th>GempaID</th>\n",
       "      <th>Tanggal</th>\n",
       "      <th>Jam</th>\n",
       "      <th>Latitude</th>\n",
       "      <th>Longitude</th>\n",
       "      <th>Magnitudo</th>\n",
       "      <th>Kategori</th>\n",
       "      <th>Destruktif</th>\n",
       "      <th>Kedalaman</th>\n",
       "      <th>Area</th>\n",
       "    </tr>\n",
       "  </thead>\n",
       "  <tbody>\n",
       "    <tr>\n",
       "      <th>0</th>\n",
       "      <td>bmg2008vkye</td>\n",
       "      <td>2008-11-01</td>\n",
       "      <td>0</td>\n",
       "      <td>-0.604440</td>\n",
       "      <td>98.895531</td>\n",
       "      <td>2.99</td>\n",
       "      <td>Kecil</td>\n",
       "      <td>Tidak</td>\n",
       "      <td>-20</td>\n",
       "      <td>Southern Sumatra, Indonesia</td>\n",
       "    </tr>\n",
       "    <tr>\n",
       "      <th>1</th>\n",
       "      <td>bmg2008vlag</td>\n",
       "      <td>2008-11-01</td>\n",
       "      <td>1</td>\n",
       "      <td>-6.611860</td>\n",
       "      <td>129.387220</td>\n",
       "      <td>5.51</td>\n",
       "      <td>Sedang</td>\n",
       "      <td>Tidak</td>\n",
       "      <td>-30</td>\n",
       "      <td>Banda Sea</td>\n",
       "    </tr>\n",
       "    <tr>\n",
       "      <th>2</th>\n",
       "      <td>bmg2008vlaj</td>\n",
       "      <td>2008-11-01</td>\n",
       "      <td>1</td>\n",
       "      <td>-3.650586</td>\n",
       "      <td>127.990680</td>\n",
       "      <td>3.54</td>\n",
       "      <td>Kecil</td>\n",
       "      <td>Tidak</td>\n",
       "      <td>-5</td>\n",
       "      <td>Seram, Indonesia</td>\n",
       "    </tr>\n",
       "    <tr>\n",
       "      <th>3</th>\n",
       "      <td>bmg2008vlbt</td>\n",
       "      <td>2008-11-01</td>\n",
       "      <td>2</td>\n",
       "      <td>-4.198925</td>\n",
       "      <td>128.097000</td>\n",
       "      <td>2.42</td>\n",
       "      <td>Kecil</td>\n",
       "      <td>Tidak</td>\n",
       "      <td>-5</td>\n",
       "      <td>Banda Sea</td>\n",
       "    </tr>\n",
       "    <tr>\n",
       "      <th>4</th>\n",
       "      <td>bmg2008vlcd</td>\n",
       "      <td>2008-11-01</td>\n",
       "      <td>2</td>\n",
       "      <td>-4.091891</td>\n",
       "      <td>128.200470</td>\n",
       "      <td>2.41</td>\n",
       "      <td>Kecil</td>\n",
       "      <td>Tidak</td>\n",
       "      <td>-10</td>\n",
       "      <td>Banda Sea</td>\n",
       "    </tr>\n",
       "    <tr>\n",
       "      <th>...</th>\n",
       "      <td>...</td>\n",
       "      <td>...</td>\n",
       "      <td>...</td>\n",
       "      <td>...</td>\n",
       "      <td>...</td>\n",
       "      <td>...</td>\n",
       "      <td>...</td>\n",
       "      <td>...</td>\n",
       "      <td>...</td>\n",
       "      <td>...</td>\n",
       "    </tr>\n",
       "    <tr>\n",
       "      <th>117246</th>\n",
       "      <td>bmg2024xdfu</td>\n",
       "      <td>2024-11-25</td>\n",
       "      <td>1</td>\n",
       "      <td>-9.609527</td>\n",
       "      <td>118.552315</td>\n",
       "      <td>3.50</td>\n",
       "      <td>Kecil</td>\n",
       "      <td>Tidak</td>\n",
       "      <td>-43</td>\n",
       "      <td>Sumbawa Region, Indonesia</td>\n",
       "    </tr>\n",
       "    <tr>\n",
       "      <th>117247</th>\n",
       "      <td>bmg2024xdgj</td>\n",
       "      <td>2024-11-25</td>\n",
       "      <td>1</td>\n",
       "      <td>1.494929</td>\n",
       "      <td>128.375214</td>\n",
       "      <td>2.76</td>\n",
       "      <td>Kecil</td>\n",
       "      <td>Tidak</td>\n",
       "      <td>-10</td>\n",
       "      <td>Halmahera, Indonesia</td>\n",
       "    </tr>\n",
       "    <tr>\n",
       "      <th>117248</th>\n",
       "      <td>bmg2024xdgx</td>\n",
       "      <td>2024-11-25</td>\n",
       "      <td>2</td>\n",
       "      <td>1.187977</td>\n",
       "      <td>124.155006</td>\n",
       "      <td>3.59</td>\n",
       "      <td>Kecil</td>\n",
       "      <td>Tidak</td>\n",
       "      <td>-10</td>\n",
       "      <td>Minahassa Peninsula, Sulawesi</td>\n",
       "    </tr>\n",
       "    <tr>\n",
       "      <th>117249</th>\n",
       "      <td>bmg2024xdie</td>\n",
       "      <td>2024-11-25</td>\n",
       "      <td>2</td>\n",
       "      <td>-9.976059</td>\n",
       "      <td>118.790207</td>\n",
       "      <td>3.94</td>\n",
       "      <td>Kecil</td>\n",
       "      <td>Tidak</td>\n",
       "      <td>-10</td>\n",
       "      <td>Sumbawa Region, Indonesia</td>\n",
       "    </tr>\n",
       "    <tr>\n",
       "      <th>117250</th>\n",
       "      <td>bmg2024xdlm</td>\n",
       "      <td>2024-11-25</td>\n",
       "      <td>4</td>\n",
       "      <td>3.235618</td>\n",
       "      <td>96.341194</td>\n",
       "      <td>3.22</td>\n",
       "      <td>Kecil</td>\n",
       "      <td>Tidak</td>\n",
       "      <td>-10</td>\n",
       "      <td>Northern Sumatra, Indonesia</td>\n",
       "    </tr>\n",
       "  </tbody>\n",
       "</table>\n",
       "<p>116715 rows × 10 columns</p>\n",
       "</div>"
      ],
      "text/plain": [
       "            GempaID    Tanggal  Jam  Latitude   Longitude  Magnitudo Kategori  \\\n",
       "0       bmg2008vkye 2008-11-01    0 -0.604440   98.895531       2.99    Kecil   \n",
       "1       bmg2008vlag 2008-11-01    1 -6.611860  129.387220       5.51   Sedang   \n",
       "2       bmg2008vlaj 2008-11-01    1 -3.650586  127.990680       3.54    Kecil   \n",
       "3       bmg2008vlbt 2008-11-01    2 -4.198925  128.097000       2.42    Kecil   \n",
       "4       bmg2008vlcd 2008-11-01    2 -4.091891  128.200470       2.41    Kecil   \n",
       "...             ...        ...  ...       ...         ...        ...      ...   \n",
       "117246  bmg2024xdfu 2024-11-25    1 -9.609527  118.552315       3.50    Kecil   \n",
       "117247  bmg2024xdgj 2024-11-25    1  1.494929  128.375214       2.76    Kecil   \n",
       "117248  bmg2024xdgx 2024-11-25    2  1.187977  124.155006       3.59    Kecil   \n",
       "117249  bmg2024xdie 2024-11-25    2 -9.976059  118.790207       3.94    Kecil   \n",
       "117250  bmg2024xdlm 2024-11-25    4  3.235618   96.341194       3.22    Kecil   \n",
       "\n",
       "       Destruktif  Kedalaman                           Area  \n",
       "0           Tidak        -20    Southern Sumatra, Indonesia  \n",
       "1           Tidak        -30                      Banda Sea  \n",
       "2           Tidak         -5               Seram, Indonesia  \n",
       "3           Tidak         -5                      Banda Sea  \n",
       "4           Tidak        -10                      Banda Sea  \n",
       "...           ...        ...                            ...  \n",
       "117246      Tidak        -43      Sumbawa Region, Indonesia  \n",
       "117247      Tidak        -10           Halmahera, Indonesia  \n",
       "117248      Tidak        -10  Minahassa Peninsula, Sulawesi  \n",
       "117249      Tidak        -10      Sumbawa Region, Indonesia  \n",
       "117250      Tidak        -10    Northern Sumatra, Indonesia  \n",
       "\n",
       "[116715 rows x 10 columns]"
      ]
     },
     "execution_count": 31,
     "metadata": {},
     "output_type": "execute_result"
    }
   ],
   "source": [
    "# tampilkan tabel untuk dibahas kegunaan dari kolom\n",
    "df"
   ]
  },
  {
   "cell_type": "markdown",
   "metadata": {},
   "source": [
    "Tabel katalog_gempa_v2.tsv yang digunakan memiliki 37 kolom namun hanya 7 kolom yang digunakan. Dari 7 kolom tersebut diolah kembali sehingga menghasilkan 10 kolom final dengan penjelasan:\n",
    "- GempaID   : Identitas dari gempa.\n",
    "- Tanggal   : Tanggal terjadinya gempa.\n",
    "- Jam       : Waktu terjadinya gempa yang dikelompokkan dalam satuan jam (jam 0-23).\n",
    "- Latitude  : Lintang yang menunjukkan posisi Utara-Selatan suatu titik di permukaan bumi relatif terhadap garis meridian utama dalam satuan derajat.\n",
    "- Longitude : Bujur yang menunjukkan posisi Barat-Timur suatu titik di permukaan bumi relatif terhadap garis meridian utama dalam satuan derajat.\n",
    "- Magnitudo : Ukuran kuantitatif yang digunakan untuk menyatakan kekuatan atau energi yang dilepaskan oleh gempa bumi pada sumbernya.\n",
    "- Kategori  : Pengelompokkan nilai magnitudo berdasarkan klasifikasi dari BMKG.\n",
    "- Destruktif    : Menjelaskan apakah gempa masuk ke dalam kategori destruktif atau tidak berdasarkan kategori (Kecil dan Sedang = Tidak, Besar = Ya)\n",
    "- Kedalaman : Kedalaman dari pusat gempa dalam satuan kilometer.\n",
    "- Area      : Lokasi estimasi dari pusat gempa."
   ]
  },
  {
   "cell_type": "markdown",
   "metadata": {},
   "source": [
    "Data dalam tabel ini diambil dalam rentang waktu 1 November 2008 sampai 25 November 2024."
   ]
  },
  {
   "cell_type": "markdown",
   "metadata": {},
   "source": [
    "## 4.12 Export Dataframe yang Sudah Diproses"
   ]
  },
  {
   "cell_type": "markdown",
   "metadata": {},
   "source": [
    "Dataframe hasil proses cleaning harus diexport untuk kepentingan visualisasi menggunakan Tableau karena beberapa pertanyaan dalam file ini tidak mampu dijawab baik menggunakan analisis statistik maupun visualisasi dasar."
   ]
  },
  {
   "cell_type": "code",
   "execution_count": 32,
   "metadata": {},
   "outputs": [],
   "source": [
    "df.to_excel(\"katalog_gempa_alan.xlsx\") "
   ]
  },
  {
   "cell_type": "markdown",
   "metadata": {},
   "source": [
    "# 5. Analisis dan Perhitungan"
   ]
  },
  {
   "cell_type": "markdown",
   "metadata": {},
   "source": [
    "Analisis dilakukan untuk menjawab pertanyaan berikut:\n",
    "1. Apakah ada hubungan antara area dan kategori gempa?\n",
    "2. Apakah ada anomali dari sebaran data magnitudo gempa?\n",
    "3. Di mana saja area yang memiliki rekaman gempa berkategori besar terbanyak?\n",
    "4. Bagaimana kedalaman pusat gempa mempengaruhi magnitudo gempa?\n",
    "5. Apakah gempa terjadi pada jam tertentu?\n",
    "6. Apakah gempa dengan kategori besar bisa diprediksi atau memiliki pola?"
   ]
  },
  {
   "cell_type": "markdown",
   "metadata": {},
   "source": [
    "Untuk menjawab pertanyaan di atas, dilakukan analisis dengan motode yang berbeda menyesuaikan dengan data dan kondisinya."
   ]
  },
  {
   "cell_type": "markdown",
   "metadata": {},
   "source": [
    "## 5.1 Statistik Inferensial"
   ]
  },
  {
   "cell_type": "markdown",
   "metadata": {},
   "source": [
    "Pendekatan statistik inferensial digunakan untuk menjawab pertanyaan nomor 1 yaitu apakah ada hubungan antara area dan kategori gempa?"
   ]
  },
  {
   "cell_type": "markdown",
   "metadata": {},
   "source": [
    "Analisis dilakukan dengan memasukkan 2 variabel yaitu variabel Area dan Kategori. Karena variabel Area berisi data dengan jenis kategorikal (nominal) dan variabel Kategori berisi data dengan jenis kategorikal (ordinal), maka analisis menggunakan metode analisis korelasi Chi-Squared dengan hipotesis:\n",
    "\n",
    "- **Hipotesis Nol (H₀)**:\n",
    "\n",
    "Tidak ada hubungan antara area lokasi gempa dan kategori gempa.\n",
    "\n",
    "(Dalam konteks ini, distribusi kategori gempa di berbagai lokasi terjadi secara independen dan tidak saling bergantung).\n",
    "\n",
    "- **Hipotesis Alternatif (H₁)**:\n",
    "\n",
    "Ada hubungan antara area lokasi gempa dan kategori gempa.\n",
    "\n",
    "(Dalam konteks ini, distribusi kategori gempa berhubungan secara signifikan terhadap area lokasi dan saling bergantung)."
   ]
  },
  {
   "cell_type": "markdown",
   "metadata": {},
   "source": [
    "Asumsi tingkat signifikansi adalah 5% atau α = 0.05, maka jika hasil analisis P Value < α artinya H₀ ditolak, sebaliknya jika P Value > α artinya H₀ diterima.\n",
    "\n",
    "Analisis menggunakan metode Chi-Squared dimulai dengan membuat tabel kontingensi dari dataframe menggunakan variabel Kategori dan Area."
   ]
  },
  {
   "cell_type": "code",
   "execution_count": 33,
   "metadata": {},
   "outputs": [
    {
     "data": {
      "text/html": [
       "<div>\n",
       "<style scoped>\n",
       "    .dataframe tbody tr th:only-of-type {\n",
       "        vertical-align: middle;\n",
       "    }\n",
       "\n",
       "    .dataframe tbody tr th {\n",
       "        vertical-align: top;\n",
       "    }\n",
       "\n",
       "    .dataframe thead th {\n",
       "        text-align: right;\n",
       "    }\n",
       "</style>\n",
       "<table border=\"1\" class=\"dataframe\">\n",
       "  <thead>\n",
       "    <tr style=\"text-align: right;\">\n",
       "      <th>Kategori</th>\n",
       "      <th>Besar</th>\n",
       "      <th>Kecil</th>\n",
       "      <th>Sedang</th>\n",
       "    </tr>\n",
       "    <tr>\n",
       "      <th>Area</th>\n",
       "      <th></th>\n",
       "      <th></th>\n",
       "      <th></th>\n",
       "    </tr>\n",
       "  </thead>\n",
       "  <tbody>\n",
       "    <tr>\n",
       "      <th>Arafura Sea</th>\n",
       "      <td>2</td>\n",
       "      <td>5</td>\n",
       "      <td>7</td>\n",
       "    </tr>\n",
       "    <tr>\n",
       "      <th>Aru Islands Region, Indonesia</th>\n",
       "      <td>2</td>\n",
       "      <td>144</td>\n",
       "      <td>22</td>\n",
       "    </tr>\n",
       "    <tr>\n",
       "      <th>Bali Region, Indonesia</th>\n",
       "      <td>1</td>\n",
       "      <td>1551</td>\n",
       "      <td>10</td>\n",
       "    </tr>\n",
       "    <tr>\n",
       "      <th>Bali Sea</th>\n",
       "      <td>5</td>\n",
       "      <td>833</td>\n",
       "      <td>40</td>\n",
       "    </tr>\n",
       "    <tr>\n",
       "      <th>Banda Sea</th>\n",
       "      <td>43</td>\n",
       "      <td>5766</td>\n",
       "      <td>478</td>\n",
       "    </tr>\n",
       "    <tr>\n",
       "      <th>Borneo</th>\n",
       "      <td>60</td>\n",
       "      <td>242</td>\n",
       "      <td>224</td>\n",
       "    </tr>\n",
       "    <tr>\n",
       "      <th>Buru, Indonesia</th>\n",
       "      <td>0</td>\n",
       "      <td>115</td>\n",
       "      <td>4</td>\n",
       "    </tr>\n",
       "    <tr>\n",
       "      <th>Celebes Sea</th>\n",
       "      <td>15</td>\n",
       "      <td>642</td>\n",
       "      <td>78</td>\n",
       "    </tr>\n",
       "    <tr>\n",
       "      <th>Ceram Sea</th>\n",
       "      <td>1</td>\n",
       "      <td>1908</td>\n",
       "      <td>36</td>\n",
       "    </tr>\n",
       "    <tr>\n",
       "      <th>East of Philippine Islands</th>\n",
       "      <td>0</td>\n",
       "      <td>11</td>\n",
       "      <td>7</td>\n",
       "    </tr>\n",
       "    <tr>\n",
       "      <th>Flores Region, Indonesia</th>\n",
       "      <td>5</td>\n",
       "      <td>3266</td>\n",
       "      <td>42</td>\n",
       "    </tr>\n",
       "    <tr>\n",
       "      <th>Flores Sea</th>\n",
       "      <td>9</td>\n",
       "      <td>2201</td>\n",
       "      <td>55</td>\n",
       "    </tr>\n",
       "    <tr>\n",
       "      <th>Halmahera, Indonesia</th>\n",
       "      <td>10</td>\n",
       "      <td>4344</td>\n",
       "      <td>162</td>\n",
       "    </tr>\n",
       "    <tr>\n",
       "      <th>Irian Jaya Region, Indonesia</th>\n",
       "      <td>26</td>\n",
       "      <td>3216</td>\n",
       "      <td>221</td>\n",
       "    </tr>\n",
       "    <tr>\n",
       "      <th>Irian Jaya, Indonesia</th>\n",
       "      <td>10</td>\n",
       "      <td>1589</td>\n",
       "      <td>86</td>\n",
       "    </tr>\n",
       "    <tr>\n",
       "      <th>Java Sea</th>\n",
       "      <td>13</td>\n",
       "      <td>257</td>\n",
       "      <td>143</td>\n",
       "    </tr>\n",
       "    <tr>\n",
       "      <th>Java, Indonesia</th>\n",
       "      <td>13</td>\n",
       "      <td>8588</td>\n",
       "      <td>191</td>\n",
       "    </tr>\n",
       "    <tr>\n",
       "      <th>Malay Peninsula</th>\n",
       "      <td>2</td>\n",
       "      <td>16</td>\n",
       "      <td>28</td>\n",
       "    </tr>\n",
       "    <tr>\n",
       "      <th>Minahassa Peninsula, Sulawesi</th>\n",
       "      <td>14</td>\n",
       "      <td>11972</td>\n",
       "      <td>206</td>\n",
       "    </tr>\n",
       "    <tr>\n",
       "      <th>Mindanao, Philippines</th>\n",
       "      <td>12</td>\n",
       "      <td>804</td>\n",
       "      <td>140</td>\n",
       "    </tr>\n",
       "  </tbody>\n",
       "</table>\n",
       "</div>"
      ],
      "text/plain": [
       "Kategori                       Besar  Kecil  Sedang\n",
       "Area                                               \n",
       "Arafura Sea                        2      5       7\n",
       "Aru Islands Region, Indonesia      2    144      22\n",
       "Bali Region, Indonesia             1   1551      10\n",
       "Bali Sea                           5    833      40\n",
       "Banda Sea                         43   5766     478\n",
       "Borneo                            60    242     224\n",
       "Buru, Indonesia                    0    115       4\n",
       "Celebes Sea                       15    642      78\n",
       "Ceram Sea                          1   1908      36\n",
       "East of Philippine Islands         0     11       7\n",
       "Flores Region, Indonesia           5   3266      42\n",
       "Flores Sea                         9   2201      55\n",
       "Halmahera, Indonesia              10   4344     162\n",
       "Irian Jaya Region, Indonesia      26   3216     221\n",
       "Irian Jaya, Indonesia             10   1589      86\n",
       "Java Sea                          13    257     143\n",
       "Java, Indonesia                   13   8588     191\n",
       "Malay Peninsula                    2     16      28\n",
       "Minahassa Peninsula, Sulawesi     14  11972     206\n",
       "Mindanao, Philippines             12    804     140"
      ]
     },
     "execution_count": 33,
     "metadata": {},
     "output_type": "execute_result"
    }
   ],
   "source": [
    "# buat tabel kontingensi menggunakan fungsi crosstab\n",
    "contingency_table = pd.crosstab(df['Area'],df['Kategori'])\n",
    "contingency_table.head(20)"
   ]
  },
  {
   "cell_type": "code",
   "execution_count": 34,
   "metadata": {},
   "outputs": [],
   "source": [
    "# import package yang akan digunakan\n",
    "from scipy import stats"
   ]
  },
  {
   "cell_type": "code",
   "execution_count": 35,
   "metadata": {},
   "outputs": [
    {
     "name": "stdout",
     "output_type": "stream",
     "text": [
      "P-value: 0.0\n"
     ]
    }
   ],
   "source": [
    "result = stats.chi2_contingency(contingency_table)\n",
    "print(\"P-value:\",result.pvalue)"
   ]
  },
  {
   "cell_type": "markdown",
   "metadata": {},
   "source": [
    "Berdasarkan hasil analisis Chi-Squared antara Area terhadap Kategori Gempa, hasil P-Value yang didapat adalah 0 (P-Value < α) maka H₀ ditolak.\n",
    "Dapat disimpulkan bahwa **ada hubungan antara area lokasi gempa dan kategori gempa**."
   ]
  },
  {
   "cell_type": "markdown",
   "metadata": {},
   "source": [
    "Karena terdapat hubungan antara area dan kategori gempa, sebaiknya BNPB bisa lebih memfokuskan sumber daya yang dimilikinya kepada area-area yang lebih rawan terkena gempa kategori besar."
   ]
  },
  {
   "cell_type": "markdown",
   "metadata": {},
   "source": [
    "## 5.2 Statistik Deskriptif"
   ]
  },
  {
   "cell_type": "markdown",
   "metadata": {},
   "source": [
    "Pendekatan statistik deskriptif digunakan untuk menjawab pertanyaan nomor 2 yaitu apakah ada anomali dari sebaran data magnitudo gempa?"
   ]
  },
  {
   "cell_type": "markdown",
   "metadata": {},
   "source": [
    "Analisis dilakukan dengan mengamati data persebaran magnitudo gempa menggunakan beberapa metode:\n",
    "- Mencari nilai central tendency-nya yaitu rata-rata, median dan modus untuk mengamati karakter nilai persebaran magnitudo gempa.\n",
    "- Mencari nilai standar deviasi untuk mengamati seberapa jauh persebaran datanya.\n",
    "- Mencari nilai skewness untuk mengamati keterdapatan outlier / anomali dari data persebaran magnitudo gempa.\n",
    "- Mencari nilai kurtosis untuk menetukan komposisi dari outlier/anomali terhadap data yang terdistribusi normal."
   ]
  },
  {
   "cell_type": "markdown",
   "metadata": {},
   "source": [
    "Untuk mencari nilai central tendency digunakan function berikut:"
   ]
  },
  {
   "cell_type": "code",
   "execution_count": 36,
   "metadata": {},
   "outputs": [
    {
     "name": "stdout",
     "output_type": "stream",
     "text": [
      "Rata-rata = 3.58\n",
      "Median = 3.52\n",
      "Modus = 0    3.17\n",
      "Name: Magnitudo, dtype: float64\n"
     ]
    }
   ],
   "source": [
    "# hitung nilai central tendency dari variabel magnitudo\n",
    "print(f\"Rata-rata = {df['Magnitudo'].mean():.3}\")\n",
    "print(f\"Median = {df['Magnitudo'].median()}\")\n",
    "print(f\"Modus = {df['Magnitudo'].mode()}\")"
   ]
  },
  {
   "cell_type": "markdown",
   "metadata": {},
   "source": [
    "Dari hasil perhitungan central tendency didapat nilai yang relatif tidak saling berjauhan di sekitar nilai magnitudo 3.1 sampai 3.6. Namun nilai median dan rata-rata yang tertarik ke arah positif mengindikasikan terdapat anomali yaitu outlier yang memiliki nilai magnitudo gempa yang jauh di atas nilai central tendency."
   ]
  },
  {
   "cell_type": "markdown",
   "metadata": {},
   "source": [
    "Untuk mendeteksi outlier lebih lanjut, dilakukan analisis Skewness Level dari data magnitudo gempa."
   ]
  },
  {
   "cell_type": "code",
   "execution_count": 37,
   "metadata": {},
   "outputs": [
    {
     "name": "stdout",
     "output_type": "stream",
     "text": [
      "Skewness Level = 0.32\n"
     ]
    }
   ],
   "source": [
    "# hitung nilai sekwness dari variabel magnitudo\n",
    "print(f\"Skewness Level = {df['Magnitudo'].skew():.2}\")"
   ]
  },
  {
   "cell_type": "markdown",
   "metadata": {},
   "source": [
    "Hasil perhitungan nilai skewness 0.32 (kurang dari 0.5) menandakan distribusi data magnitudo gempa relatif normal (distribusi simetris). Dari sini bisa ditarik kesimpulan bahwa jika ada outlier, jumlahnya pasti hanya sedikit dibandingkan dengan jumlah keseluruhan data magnitudo gempa yang pernah terekam."
   ]
  },
  {
   "cell_type": "markdown",
   "metadata": {},
   "source": [
    "Untuk mengonfirmasi mengenai perbandingan jumlah dari outlier tersebut, dilakukan analisis Kurtosis dari data magnitudo gempa."
   ]
  },
  {
   "cell_type": "code",
   "execution_count": 38,
   "metadata": {},
   "outputs": [
    {
     "name": "stdout",
     "output_type": "stream",
     "text": [
      "Skewness Level = -0.004\n"
     ]
    }
   ],
   "source": [
    "# hitung nilai Kurtosis dari variabel magnitudo\n",
    "print(f\"Skewness Level = {df['Magnitudo'].kurtosis():.1}\")"
   ]
  },
  {
   "cell_type": "markdown",
   "metadata": {},
   "source": [
    "Hasil perhitungan nilai Kurtosis -0.004 (kurang namun sangat dekat dari 0.00) menandakan jumlah dari outlier positif (nilai lebih besar dari distribusi normal) jauh lebih sedikit dibandingkan dengan jumlah data yang terdistribusi normal."
   ]
  },
  {
   "cell_type": "markdown",
   "metadata": {},
   "source": [
    "Berdasarkan analisis di atas, dapat disimpulkan bahwa **gempa kategori besar merupakan anomali** karena jumlahnya sangat sedikit dibandingkan gempa dengan distribusi normal yang cenderung berada di magnitudo 3.0–3.6. Anomali inilah yang seharusnya menjadi fokus perhatian BNPB dalam menyalurkan sumber dayanya."
   ]
  },
  {
   "cell_type": "markdown",
   "metadata": {},
   "source": [
    "## 5.3 Visualisasi Data"
   ]
  },
  {
   "cell_type": "markdown",
   "metadata": {},
   "source": [
    "Visualisasi data dilakukan untuk menggambarkan kondisi persebaran data gempa agar lebih mudah dipahami. Visualisasi dilakukan untuk beberapa variabel untuk mengonfirmasi hasil analisis yang telah dilakukan sebelumnya dan untuk menggambarkan beberapa kondisi lainnya yang masih berhubungan dengan persebaran data gempa di Indonesia."
   ]
  },
  {
   "cell_type": "markdown",
   "metadata": {},
   "source": [
    "### 5.3.1 Visualisasi Area dengan Frequensi Gempa Kategori Besar"
   ]
  },
  {
   "cell_type": "markdown",
   "metadata": {},
   "source": [
    "Dalam visualisasi ini kita akan mendapatkan penggambaran area dengan frequensi gempa kategori besar tertinggi sebagai pertimbangan pemusatan sumber daya dari BNPB."
   ]
  },
  {
   "cell_type": "code",
   "execution_count": 39,
   "metadata": {},
   "outputs": [],
   "source": [
    "# import package yang akan digunakan\n",
    "import matplotlib.pyplot as plt"
   ]
  },
  {
   "cell_type": "code",
   "execution_count": 40,
   "metadata": {},
   "outputs": [
    {
     "data": {
      "text/plain": [
       "Area\n",
       "Borneo                             60\n",
       "Banda Sea                          43\n",
       "Southern Sumatra, Indonesia        34\n",
       "South China Sea                    34\n",
       "Southwest of Sumatra, Indonesia    29\n",
       "Name: count, dtype: int64"
      ]
     },
     "execution_count": 40,
     "metadata": {},
     "output_type": "execute_result"
    }
   ],
   "source": [
    "# buat variabel frequensi berdasarkan area dari dataframe yang memiliki kolom kategori berisi gempa besar saja\n",
    "destructive_freq = df_destructive['Area'].value_counts()\n",
    "destructive_freq.head()"
   ]
  },
  {
   "cell_type": "code",
   "execution_count": 41,
   "metadata": {},
   "outputs": [
    {
     "data": {
      "text/plain": [
       "<Axes: xlabel='Area'>"
      ]
     },
     "execution_count": 41,
     "metadata": {},
     "output_type": "execute_result"
    },
    {
     "data": {
      "image/png": "[encoded data removed]",
      "text/plain": [
       "<Figure size 640x480 with 1 Axes>"
      ]
     },
     "metadata": {},
     "output_type": "display_data"
    }
   ],
   "source": [
    "# buat bar-chart\n",
    "destructive_freq.head(20).plot(kind='bar')"
   ]
  },
  {
   "cell_type": "markdown",
   "metadata": {},
   "source": [
    "Berdasarkan bar-chart di atas, kita bisa mengambil kesimpulan bahwa BNPB dapat memfokuskan sumber dayanya di sekitar area yang paling banyak terkena gempa besar pada gambar visualisasi. Tidak di semua area gempa terjadi bencana (karena tidak memengaruhi aktivitas manusia) maka pemusatan sumber daya bisa dilakukan ke area yang dapat memengaruhi aktivitas manusia. Gempa tidak bisa diprediksi namun berdasarkan hasil analisis chi-squared menunjukan adanya hubungan antara area tertentu dengan gempa yang terjadi. Visualisasi dari TableAU akan menggambarkan lebih jelas area mana saja yang harus menjadi prioritas karena akan dimasukkan data koordinat gempa."
   ]
  },
  {
   "cell_type": "markdown",
   "metadata": {},
   "source": [
    "Berikut visualisasi dari Tableau yang lebih jelas:"
   ]
  },
  {
   "attachments": {
    "Indonesia_Earthquake_Map.png": {
     "image/png": "[encoded data removed]"
    }
   },
   "cell_type": "markdown",
   "metadata": {},
   "source": [
    "![Indonesia_Earthquake_Map.png](attachment:Indonesia_Earthquake_Map.png)"
   ]
  },
  {
   "cell_type": "markdown",
   "metadata": {},
   "source": [
    "Berdasarkan peta di atas, prioritas penyaluran sumber daya yang dimiliki BNPB untuk melakukan mitigasi gempa bumi dapat diurutkan dari warna merah tergelap (Gempa Besar dengan nilai magnitudo paling kecil) ke arah kuning paling terang (Gempa Besar dengan nilai magnitudo paling kecil). Selain besar gempa, pertimbangan lain adalah menentukan lokasi yang paling berpotensi menjadi bencana yaitu yang memiliki populasi manusia di sekitarnya."
   ]
  },
  {
   "cell_type": "markdown",
   "metadata": {},
   "source": [
    "### 5.3.2 Visualisasi Kedalaman Gempa dengan Magnitudo Gempa"
   ]
  },
  {
   "cell_type": "markdown",
   "metadata": {},
   "source": [
    "Dalam visualisasi ini kita akan mendapatkan penggambaran hubungan antara kedalaman gempa dan magnitudo gempa yang dihasilkan. Untuk visualisasi kita dapat menggunakan scatter plot dengan data kedalaman dan magnitudo."
   ]
  },
  {
   "cell_type": "code",
   "execution_count": 42,
   "metadata": {},
   "outputs": [
    {
     "data": {
      "image/png": "[encoded data removed]",
      "text/plain": [
       "<Figure size 640x480 with 1 Axes>"
      ]
     },
     "metadata": {},
     "output_type": "display_data"
    }
   ],
   "source": [
    "# ubah fungsi plt ke dalam object agar mudah dipanggil\n",
    "fig, ax = plt.subplots()\n",
    "\n",
    "ax.set_title('Kedalaman vs Magnitudo')\n",
    "ax.set_xlabel('Magnitudo')\n",
    "ax.set_ylabel('Kedalaman')\n",
    "\n",
    "ax.scatter(df['Magnitudo'],df['Kedalaman'])\n",
    "plt.show()"
   ]
  },
  {
   "cell_type": "markdown",
   "metadata": {},
   "source": [
    "Dari visualisasi di atas dapat diamati bahwa semakin dalam pusat gempa, maka magnitudo cenderung mengarah ke nilai di sekitar 4 - 5.5 walaupun terdapat anomali yang relatif sedikit. Dari data ini kita dapat menarik kesimpulan bahwa potensi gempa dengan kategori besar (magnitudo > 6) cenderung tidak terjadi pada pusat gempa yang lebih dalam. BNPB dapat membagi prioritas sumberdaya nya untuk area dengan pusat gempa yang tidak dalam."
   ]
  },
  {
   "cell_type": "markdown",
   "metadata": {},
   "source": [
    "### 5.3.3 Visualisasi Pola Waktu (Jam) Terjadinya Gempa"
   ]
  },
  {
   "cell_type": "code",
   "execution_count": 43,
   "metadata": {},
   "outputs": [],
   "source": [
    "# buat variabel baru untuk kepentingan pengurutan dataframe destruktif berdasarkan jam\n",
    "df_time = df_destructive.sort_values(by='Jam')"
   ]
  },
  {
   "cell_type": "code",
   "execution_count": 44,
   "metadata": {},
   "outputs": [
    {
     "data": {
      "text/plain": [
       "Jam\n",
       "0     27\n",
       "1     23\n",
       "2     22\n",
       "3     28\n",
       "4     27\n",
       "5     28\n",
       "6     25\n",
       "7     29\n",
       "8     19\n",
       "9     22\n",
       "10    23\n",
       "11    15\n",
       "12    15\n",
       "13    12\n",
       "15    28\n",
       "16    21\n",
       "17    20\n",
       "18    17\n",
       "19    11\n",
       "20    14\n",
       "21    16\n",
       "22    15\n",
       "23    14\n",
       "Name: count, dtype: int64"
      ]
     },
     "execution_count": 44,
     "metadata": {},
     "output_type": "execute_result"
    }
   ],
   "source": [
    "# buat variabel frequensi berdasarkan area dari dataframe yang memiliki kolom kategori berisi gempa besar saja\n",
    "time_freq = df_time['Jam'].value_counts(sort=False)\n",
    "time_freq"
   ]
  },
  {
   "cell_type": "code",
   "execution_count": 45,
   "metadata": {},
   "outputs": [
    {
     "data": {
      "text/plain": [
       "<Axes: xlabel='Jam'>"
      ]
     },
     "execution_count": 45,
     "metadata": {},
     "output_type": "execute_result"
    },
    {
     "data": {
      "image/png": "[encoded data removed]",
      "text/plain": [
       "<Figure size 640x480 with 1 Axes>"
      ]
     },
     "metadata": {},
     "output_type": "display_data"
    }
   ],
   "source": [
    "# buat bar-chart\n",
    "time_freq.plot(kind='line')"
   ]
  },
  {
   "cell_type": "markdown",
   "metadata": {},
   "source": [
    "Dilihat dari visualisasi, persebaran data gempa kategori besar tidak memiliki pola jam yang jelas. Kesimpulan dari visualisasi adalah bahwa waktu gempa tidak bisa diprediksi. Artinya, BNPB harus menyiapkan sumberdayanya agar warga siap dalam waktu 24 jam dengan SOP yang jelas berdasarkan waktu terjadinya gempa (SOP gempa pada waktu siang hari seharusnya berbeda dengan SOP di malam hari)."
   ]
  },
  {
   "cell_type": "markdown",
   "metadata": {},
   "source": [
    "### 5.3.3 Visualisasi Pola Waktu (Periode Tertentu) Terjadinya Gempa"
   ]
  },
  {
   "cell_type": "code",
   "execution_count": 46,
   "metadata": {},
   "outputs": [
    {
     "data": {
      "text/plain": [
       "Tanggal\n",
       "2008-11-07    1\n",
       "2008-11-22    2\n",
       "2008-11-25    1\n",
       "2008-11-28    1\n",
       "2008-12-06    1\n",
       "             ..\n",
       "2024-04-09    2\n",
       "2024-04-27    1\n",
       "2024-05-05    1\n",
       "2024-09-23    1\n",
       "2024-10-01    1\n",
       "Name: count, Length: 382, dtype: int64"
      ]
     },
     "execution_count": 46,
     "metadata": {},
     "output_type": "execute_result"
    }
   ],
   "source": [
    "# buat variabel frequensi berdasarkan area dari dataframe yang memiliki kolom kategori berisi gempa besar saja\n",
    "date_freq = df_destructive['Tanggal'].value_counts(sort=False)\n",
    "date_freq"
   ]
  },
  {
   "cell_type": "code",
   "execution_count": 47,
   "metadata": {},
   "outputs": [
    {
     "data": {
      "text/plain": [
       "<Axes: xlabel='Tanggal'>"
      ]
     },
     "execution_count": 47,
     "metadata": {},
     "output_type": "execute_result"
    },
    {
     "data": {
      "image/png": "[encoded data removed]",
      "text/plain": [
       "<Figure size 640x480 with 1 Axes>"
      ]
     },
     "metadata": {},
     "output_type": "display_data"
    }
   ],
   "source": [
    "# buat bar-chart\n",
    "date_freq.plot(kind='line')"
   ]
  },
  {
   "cell_type": "markdown",
   "metadata": {},
   "source": [
    "Dilihat dari visualisasi, persebaran data gempa kategori besar tidak memiliki pola tanggal yang jelas. Kesimpulan dari visualisasi adalah bahwa tanggal gempa tidak bisa diprediksi. Artinya BNPB harus selalu siaga dan menyiapkan mitigasi gempa yang baik setiap hari sepanjang tahun."
   ]
  },
  {
   "cell_type": "markdown",
   "metadata": {},
   "source": [
    "# 6. KESIMPULAN DAN SARAN"
   ]
  },
  {
   "cell_type": "markdown",
   "metadata": {},
   "source": [
    "## 6.1 Kesimpulan"
   ]
  },
  {
   "cell_type": "markdown",
   "metadata": {},
   "source": [
    "Berdasarkan hasil dari seluruh analisis yang dilakukan, dapat disimpulkan beberapa poin penting:\n",
    "- Gempa memiliki pola berdasarkan area sehingga persiapan sumberdaya dari BNPB bisa diprioritaskan ke area-area paling rawan.\n",
    "- Gempa besar merupakan anomali dari distribusi data gempa di Indonesia, namun justru anomali inilah yang harus diwaspadai mengingat gempa besar memiliki potensi bencana paling besar dibandingkan kategori gempa lainnya.\n",
    "- Area dengan rekaman gempa besar terbanyak yang berpotensi bencana di Indonesia secara berurutan berada di Borneo, Southern Sumatra, Irian Jaya Region, Talaud Islands, Northern Sumatra, Sulawesi, Minahassa Peninsula, Jawa, dan seterusnya. Visualisasi ini hanya berupa area, untuk mengetahui titik gempa akan dilakukan visualisasi lebih lanjut dalam Tableau.\n",
    "- Gempa tidak memiliki pola waktu terjadi dari segi jam, artinya BNPB harus menyiapkan perencanaan mitigasi bencana  baik di waktu siang maupun di malam hari.\n",
    "- Gempa tidak memiliki pola waktu terjadi dari segi periode waktu, artinya BNPB harus siaga setiap hari sepanjang tahun dalam mitigasi bencana gempa bumi."
   ]
  },
  {
   "cell_type": "markdown",
   "metadata": {},
   "source": [
    "## 6.2 Saran"
   ]
  },
  {
   "cell_type": "markdown",
   "metadata": {},
   "source": [
    "Saran yang dapat diberikan kepada BNPB selaku pihak yang menaungi bidang kebencanaan:\n",
    "- BNPB harus membagi sumber dayanya yang terbatas ke area-area dengan potensi bencana gempa tertinggi mengingat gempa memiliki pola kejadian berdasarkan lokasi.\n",
    "- Walau gempa besar merupakan anomali, BNPB harus tetap menyiapkan masyarakat Indonesia dalam menghadapi gempa baik sebelum dan sesudah terjadi. BNPB dapat melakukan edukasi kepada masyarakat untuk meminimalisasi korban baik jiwa maupun materi karena mencegah lebih baik daripada mengobati.\n",
    "- Selain edukasi mengenai cara menyiapkan diri menghadapi gempa besar, edukasi yang dilakukan kepada masyarakat di area rawan juga harus mencakup beberapa poin termasuk bahwa gempa besar bisa terjadi kapan saja baik hari ini, besok, bulan depan dan tidak peduli siang atau malam."
   ]
  }
 ],
 "metadata": {
  "kernelspec": {
   "display_name": "base",
   "language": "python",
   "name": "python3"
  },
  "language_info": {
   "codemirror_mode": {
    "name": "ipython",
    "version": 3
   },
   "file_extension": ".py",
   "mimetype": "text/x-python",
   "name": "python",
   "nbconvert_exporter": "python",
   "pygments_lexer": "ipython3",
   "version": "3.9.20"
  }
 },
 "nbformat": 4,
 "nbformat_minor": 2
}
